{
 "cells": [
  {
   "cell_type": "code",
   "execution_count": 163,
   "metadata": {
    "collapsed": false
   },
   "outputs": [
    {
     "data": {
      "text/plain": [
       "<module 'similarity_baseline' from 'similarity_baseline.pyc'>"
      ]
     },
     "execution_count": 163,
     "metadata": {},
     "output_type": "execute_result"
    }
   ],
   "source": [
    "import unittest\n",
    "import similarity_baseline"
   ]
  },
  {
   "cell_type": "code",
   "execution_count": 170,
   "metadata": {
    "collapsed": false
   },
   "outputs": [],
   "source": [
    "class TestSimilarityBaseline(unittest.TestCase):\n",
    "    def test_no_args(self):\n",
    "        self.assertRaises(TypeError, similarity_baseline.main, None)\n",
    "        \n",
    "    def test_one_arg(self):\n",
    "        argv = ['url']\n",
    "        self.assertRaises(TypeError, similarity_baseline.main, argv)\n",
    "        \n",
    "    def test_identical(self):\n",
    "        url = ('http://www.eonline.com/news/772322/'\n",
    "               'inside-the-tony-awards-after-parties-how-the-stars-celebrated-broadway-s-big-night')\n",
    "        argv = [url, url]\n",
    "        result = similarity_baseline.main(argv)\n",
    "        self.assertAlmostEqual(result, 1.0)\n",
    "        \n",
    "    def test_unrelated(self):\n",
    "        url1 = ('http://www.eonline.com/news/772322/'\n",
    "               'inside-the-tony-awards-after-parties-how-the-stars-celebrated-broadway-s-big-night')\n",
    "        url2 = 'http://thehill.com/homenews/house/283279-dems-urge-tougher-gun-laws-post-orlando'\n",
    "        argv = [url1, url2]\n",
    "        result = similarity_baseline.main(argv)\n",
    "        self.assertLess(result, .1)"
   ]
  },
  {
   "cell_type": "code",
   "execution_count": 178,
   "metadata": {
    "collapsed": false
   },
   "outputs": [],
   "source": [
    "def main():\n",
    "    suite = unittest.TestSuite()\n",
    "    suite.addTest(unittest.makeSuite(TestSimilarityBaseline))\n",
    "    runner = unittest.TextTestRunner()\n",
    "    runner.run(suite)"
   ]
  },
  {
   "cell_type": "code",
   "execution_count": 179,
   "metadata": {
    "collapsed": false
   },
   "outputs": [
    {
     "name": "stdout",
     "output_type": "stream",
     "text": [
      "Loading Spacy's English model\n",
      "Parsing files\n",
      "Document Vectors Similarity Score: 1.00000000327\n",
      "Bag of Words Cosine Similarity Score: 1.0\n"
     ]
    },
    {
     "name": "stderr",
     "output_type": "stream",
     "text": [
      "..."
     ]
    },
    {
     "name": "stdout",
     "output_type": "stream",
     "text": [
      "Loading Spacy's English model\n",
      "Parsing files\n",
      "Document Vectors Similarity Score: 0.943059186662\n",
      "Bag of Words Cosine Similarity Score: 0.0785046153611\n"
     ]
    },
    {
     "name": "stderr",
     "output_type": "stream",
     "text": [
      ".\n",
      "----------------------------------------------------------------------\n",
      "Ran 4 tests in 35.864s\n",
      "\n",
      "OK\n"
     ]
    }
   ],
   "source": [
    "if __name__ == '__main__':\n",
    "    main()"
   ]
  },
  {
   "cell_type": "code",
   "execution_count": null,
   "metadata": {
    "collapsed": true
   },
   "outputs": [],
   "source": []
  }
 ],
 "metadata": {
  "kernelspec": {
   "display_name": "Python 2",
   "language": "python",
   "name": "python2"
  },
  "language_info": {
   "codemirror_mode": {
    "name": "ipython",
    "version": 2
   },
   "file_extension": ".py",
   "mimetype": "text/x-python",
   "name": "python",
   "nbconvert_exporter": "python",
   "pygments_lexer": "ipython2",
   "version": "2.7.11"
  }
 },
 "nbformat": 4,
 "nbformat_minor": 0
}
