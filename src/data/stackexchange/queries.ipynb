{
 "cells": [
  {
   "cell_type": "code",
   "execution_count": 48,
   "metadata": {
    "collapsed": true
   },
   "outputs": [],
   "source": [
    "import xml\n",
    "import xml.etree.ElementTree as ET\n",
    "from itertools import islice\n",
    "from pprint import pprint"
   ]
  },
  {
   "cell_type": "markdown",
   "metadata": {},
   "source": [
    "## PostHistory"
   ]
  },
  {
   "cell_type": "markdown",
   "metadata": {},
   "source": [
    "Here is an XML file with some PostHistory entries from Meta:Outdoors. The \"tree\" represents the whole document (?) and the root is the node ancestor of all other nodes.\n",
    "\n",
    "The closest thing I can find to a scehma is detailed here: http://meta.stackexchange.com/questions/2677/database-schema-documentation-for-the-public-data-dump-and-sede\n",
    "\n",
    "Also see: http://data.stackexchange.com/stackoverflow/query/36599/show-all-types"
   ]
  },
  {
   "cell_type": "code",
   "execution_count": 4,
   "metadata": {
    "collapsed": false
   },
   "outputs": [],
   "source": [
    "tree = ET.parse(\"./PostHistory.xml\")\n",
    "root = tree.getroot()"
   ]
  },
  {
   "cell_type": "markdown",
   "metadata": {},
   "source": [
    "PostHistoryTypeId 10 means Closed. The Comment in a PostHistory close should be a number containing a CloseReasonType. CloseReasonType 1 and 101 both mean \"duplicate\" (1 in an old schema, 101 in a new schema)."
   ]
  },
  {
   "cell_type": "code",
   "execution_count": 39,
   "metadata": {
    "collapsed": false,
    "scrolled": true
   },
   "outputs": [
    {
     "name": "stdout",
     "output_type": "stream",
     "text": [
      "PostHistory ID: 361\n",
      "{\"OriginalQuestionIds\":[165],\"Voters\":[{\"Id\":66,\"DisplayName\":\"Rory Alsop\"},{\"Id\":18,\"DisplayName\":\"Kevin\"}]}\n",
      "2ec173a0-4a3e-48cb-a742-85c24a206e26\n",
      "178\n",
      "['Comment', 'PostId', 'UserId', 'PostHistoryTypeId', 'Text', 'RevisionGUID', 'CreationDate', 'Id']\n",
      "PostHistory ID: 1358\n",
      "{\"OriginalQuestionIds\":[572],\"Voters\":[{\"Id\":2653,\"DisplayName\":\"Wills\"},{\"Id\":-1,\"DisplayName\":\"Community\",\"BindingReason\":{\"DuplicateApprovedByAsker\":\"\"}}]}\n",
      "c4e8c84c-af50-4785-9a93-88be5629181c\n",
      "602\n",
      "['Comment', 'PostId', 'UserId', 'PostHistoryTypeId', 'Text', 'RevisionGUID', 'CreationDate', 'Id']\n"
     ]
    }
   ],
   "source": [
    "close_code = '10'\n",
    "edit_body_code = '5'\n",
    "duplicate_codes = ('1', '101')\n",
    "voted_to_close = root.findall(\".//row[@PostHistoryTypeId='{0}']\".format(close_code))\n",
    "for entry in voted_to_close:\n",
    "    close_reason = entry.attrib['Comment']\n",
    "    if close_reason in duplicate_codes:\n",
    "        print \"PostHistory ID: {0}\".format(entry.attrib['Id'])\n",
    "        print entry.attrib['Text']\n",
    "        print entry.attrib['RevisionGUID']\n",
    "        print entry.attrib['PostId']\n",
    "        print entry.attrib.keys()"
   ]
  },
  {
   "cell_type": "markdown",
   "metadata": {
    "collapsed": true
   },
   "source": [
    "The `Text` attribute in a PostHistory event indicating a post was closed as a duplicate is itself a JSON-formatted string describing the vote to close. It is unclear where other information relevant to the closing event is stored.\n",
    "\n",
    "There is, for instance, an event populated by the Community user that adds the \"Possible Duplicate\" boilerplate on the post:"
   ]
  },
  {
   "cell_type": "code",
   "execution_count": 49,
   "metadata": {
    "collapsed": false
   },
   "outputs": [
    {
     "name": "stdout",
     "output_type": "stream",
     "text": [
      "{'Comment': 'insert duplicate link',\n",
      " 'CreationDate': '2012-02-29T23:07:20.757',\n",
      " 'Id': '360',\n",
      " 'PostHistoryTypeId': '5',\n",
      " 'PostId': '178',\n",
      " 'RevisionGUID': '367d951f-bc0d-4f78-9065-abafc8b3036b',\n",
      " 'Text': \"> **Possible Duplicate:**  \\n> [How can we drive more questions on the site?](http://meta.outdoors.stackexchange.com/questions/165/how-can-we-drive-more-questions-on-the-site)  \\n\\n<!-- End of automatically inserted text -->\\n\\nIt seems that we had a great start on this beta but now the activity is really dropping. Is this natural or something to be worried about, and if so what's the best course of action to try and get the site back on track?\",\n",
      " 'UserId': '-1'}\n"
     ]
    }
   ],
   "source": [
    "add_boilerplate = root.findall(\".//row[@PostHistoryTypeId='{0}'][@Comment='insert duplicate link']\".format(edit_body_code))\n",
    "pprint(add_boilerplate[0].attrib)"
   ]
  },
  {
   "cell_type": "markdown",
   "metadata": {},
   "source": [
    "That appears to be triggered by the initial vote to close, for this post. It is also theoretically possible for a post to be *flagged* as a duplicate by a different mechanism, which conceivably would not show up in the PostHistory but in wherever the Flag histories are kept."
   ]
  },
  {
   "cell_type": "code",
   "execution_count": null,
   "metadata": {
    "collapsed": true
   },
   "outputs": [],
   "source": []
  }
 ],
 "metadata": {
  "kernelspec": {
   "display_name": "Python 2",
   "language": "python",
   "name": "python2"
  },
  "language_info": {
   "codemirror_mode": {
    "name": "ipython",
    "version": 2
   },
   "file_extension": ".py",
   "mimetype": "text/x-python",
   "name": "python",
   "nbconvert_exporter": "python",
   "pygments_lexer": "ipython2",
   "version": "2.7.11"
  }
 },
 "nbformat": 4,
 "nbformat_minor": 0
}
