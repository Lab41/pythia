{
 "cells": [
  {
   "cell_type": "code",
   "execution_count": 1,
   "metadata": {
    "collapsed": true
   },
   "outputs": [],
   "source": [
    "import xml\n",
    "import xml.etree.ElementTree as ET\n",
    "from itertools import islice\n",
    "from pprint import pprint"
   ]
  },
  {
   "cell_type": "markdown",
   "metadata": {},
   "source": [
    "## PostHistory"
   ]
  },
  {
   "cell_type": "markdown",
   "metadata": {},
   "source": [
    "Here is an XML file with some PostHistory entries from Meta:Outdoors. The \"tree\" represents the whole document (?) and the root is the node ancestor of all other nodes.\n",
    "\n",
    "The closest thing I can find to a scehma is detailed here: http://meta.stackexchange.com/questions/2677/database-schema-documentation-for-the-public-data-dump-and-sede\n",
    "\n",
    "Also see: http://data.stackexchange.com/stackoverflow/query/36599/show-all-types"
   ]
  },
  {
   "cell_type": "code",
   "execution_count": 2,
   "metadata": {
    "collapsed": false
   },
   "outputs": [],
   "source": [
    "url = \"https://archive.org/download/stackexchange/sports.stackexchange.com.7z\"\n",
    "url2 = \"https://ia800500.us.archive.org/22/items/stackexchange/sports.stackexchange.com.7z\"\n",
    "file1 = \"sports.stackexchange.com.7z\"\n",
    "folder = \"SportsExchangeData\""
   ]
  },
  {
   "cell_type": "markdown",
   "metadata": {},
   "source": [
    "downloads zip7 file to the current working directory.\n",
    "https://archive.org/download/stackexchange/sports.stackexchange.com.7z"
   ]
  },
  {
   "cell_type": "code",
   "execution_count": 3,
   "metadata": {
    "collapsed": false
   },
   "outputs": [
    {
     "data": {
      "text/plain": [
       "('sports.stackexchange.com.7z', <httplib.HTTPMessage instance at 0x104054d40>)"
      ]
     },
     "execution_count": 3,
     "metadata": {},
     "output_type": "execute_result"
    }
   ],
   "source": [
    "import urllib\n",
    "\n",
    "testfile = urllib.URLopener()\n",
    "testfile.retrieve(url2, file1)"
   ]
  },
  {
   "cell_type": "markdown",
   "metadata": {},
   "source": [
    "unzips file and puts the content in a folder called \"SportsExchangeData\" in the current directory"
   ]
  },
  {
   "cell_type": "code",
   "execution_count": 4,
   "metadata": {
    "collapsed": false
   },
   "outputs": [
    {
     "data": {
      "text/plain": [
       "134"
      ]
     },
     "execution_count": 4,
     "metadata": {},
     "output_type": "execute_result"
    }
   ],
   "source": [
    "import subprocess\n",
    "cmd = r'\"/usr/local/bin/7z\" x ' + file1 + ' -o' + folder\n",
    "subprocess.call(cmd, shell = True)"
   ]
  },
  {
   "cell_type": "code",
   "execution_count": 5,
   "metadata": {
    "collapsed": false
   },
   "outputs": [],
   "source": [
    "tree = ET.parse(folder +\"/PostHistory.xml\")\n",
    "root = tree.getroot()"
   ]
  },
  {
   "cell_type": "markdown",
   "metadata": {},
   "source": [
    "PostHistoryTypeId 10 means Closed. The Comment in a PostHistory close should be a number containing a CloseReasonType. CloseReasonType 1 and 101 both mean \"duplicate\" (1 in an old schema, 101 in a new schema)."
   ]
  },
  {
   "cell_type": "code",
   "execution_count": 6,
   "metadata": {
    "collapsed": false,
    "scrolled": true
   },
   "outputs": [
    {
     "name": "stdout",
     "output_type": "stream",
     "text": [
      "PostHistory ID: 1585\n",
      "{\"OriginalQuestionIds\":[179],\"Voters\":[{\"Id\":6,\"DisplayName\":\"wax eagle\"},{\"Id\":38,\"DisplayName\":\"Tonny Madsen\"}]}\n",
      "4b43ed3f-76fb-4a67-b953-7c4b45c23eba\n",
      "562\n",
      "['Comment', 'PostId', 'UserId', 'PostHistoryTypeId', 'Text', 'RevisionGUID', 'CreationDate', 'Id']\n",
      "PostHistory ID: 5372\n",
      "{\"OriginalQuestionIds\":[1010],\"Voters\":[{\"Id\":385,\"DisplayName\":\"Dor Cohen\"},{\"Id\":786,\"DisplayName\":\"SocioMatt\"},{\"Id\":527,\"DisplayName\":\"edmastermind29\"}]}\n",
      "10f12d59-24c8-4d98-ab11-33e33ca79fd8\n",
      "1676\n",
      "['Comment', 'PostId', 'UserId', 'PostHistoryTypeId', 'Text', 'RevisionGUID', 'CreationDate', 'Id']\n",
      "PostHistory ID: 8821\n",
      "{\"OriginalQuestionIds\":[2128],\"Voters\":[{\"Id\":103,\"DisplayName\":\"Rory Alsop\"},{\"Id\":385,\"DisplayName\":\"Dor Cohen\"},{\"Id\":527,\"DisplayName\":\"edmastermind29\"}]}\n",
      "c4fbc791-7fd2-4922-b7fd-814697b36c1c\n",
      "2303\n",
      "['Comment', 'PostId', 'UserId', 'PostHistoryTypeId', 'Text', 'RevisionGUID', 'CreationDate', 'Id']\n",
      "PostHistory ID: 9774\n",
      "{\"OriginalQuestionIds\":[179],\"Voters\":[{\"Id\":385,\"DisplayName\":\"Dor Cohen\"},{\"Id\":540,\"DisplayName\":\"hims056\"},{\"Id\":786,\"DisplayName\":\"SocioMatt\"},{\"Id\":675,\"DisplayName\":\"Bogdanovist\"},{\"Id\":528,\"DisplayName\":\"KeithS\"}]}\n",
      "3f4381c7-7c89-4f79-84c5-c3b47dddf87d\n",
      "2527\n",
      "['Comment', 'PostId', 'UserId', 'PostHistoryTypeId', 'Text', 'RevisionGUID', 'CreationDate', 'Id']\n",
      "PostHistory ID: 10046\n",
      "{\"OriginalQuestionIds\":[102],\"Voters\":[{\"Id\":527,\"DisplayName\":\"edmastermind29\"}]}\n",
      "3b94d66e-26eb-4b37-b2b0-fb8713400492\n",
      "101\n",
      "['Comment', 'PostId', 'UserId', 'PostHistoryTypeId', 'Text', 'RevisionGUID', 'CreationDate', 'Id']\n",
      "PostHistory ID: 10262\n",
      "{\"OriginalQuestionIds\":[1448],\"Voters\":[{\"Id\":477,\"DisplayName\":\"gbianchi\"},{\"Id\":921,\"DisplayName\":\"ACB\"},{\"Id\":385,\"DisplayName\":\"Dor Cohen\"},{\"Id\":675,\"DisplayName\":\"Bogdanovist\"},{\"Id\":364,\"DisplayName\":\"posdef\"}]}\n",
      "6c4ce0ae-c4da-4fc4-8b32-829e638f6473\n",
      "2645\n",
      "['Comment', 'PostId', 'UserId', 'PostHistoryTypeId', 'Text', 'RevisionGUID', 'CreationDate', 'Id']\n",
      "PostHistory ID: 10927\n",
      "{\"OriginalQuestionIds\":[2301],\"Voters\":[{\"Id\":753,\"DisplayName\":\"Sports Fan\"},{\"Id\":540,\"DisplayName\":\"hims056\"},{\"Id\":768,\"DisplayName\":\"Spinner\"},{\"Id\":527,\"DisplayName\":\"edmastermind29\"}]}\n",
      "82fd3a73-b66f-427f-9de7-9ff3d75683b9\n",
      "2843\n",
      "['Comment', 'PostId', 'UserId', 'PostHistoryTypeId', 'Text', 'RevisionGUID', 'CreationDate', 'Id']\n",
      "PostHistory ID: 11462\n",
      "{\"OriginalQuestionIds\":[2303,2128],\"Voters\":[{\"Id\":768,\"DisplayName\":\"Spinner\"},{\"Id\":540,\"DisplayName\":\"hims056\"},{\"Id\":1277,\"DisplayName\":\"NetStarter\"},{\"Id\":921,\"DisplayName\":\"ACB\"},{\"Id\":385,\"DisplayName\":\"Dor Cohen\"}]}\n",
      "b5153043-45d7-4ed9-a8a0-5af6998e740c\n",
      "2988\n",
      "['Comment', 'PostId', 'UserId', 'PostHistoryTypeId', 'Text', 'RevisionGUID', 'CreationDate', 'Id']\n",
      "PostHistory ID: 11697\n",
      "{\"OriginalQuestionIds\":[1010],\"Voters\":[{\"Id\":6,\"DisplayName\":\"wax eagle\"},{\"Id\":527,\"DisplayName\":\"edmastermind29\"}]}\n",
      "dd3e26d2-0409-4ab2-8585-e04d12d9d6c3\n",
      "3037\n",
      "['Comment', 'PostId', 'UserId', 'PostHistoryTypeId', 'Text', 'RevisionGUID', 'CreationDate', 'Id']\n",
      "PostHistory ID: 13912\n",
      "{\"OriginalQuestionIds\":[2709],\"Voters\":[{\"Id\":753,\"DisplayName\":\"Sports Fan\"},{\"Id\":540,\"DisplayName\":\"hims056\"},{\"Id\":496,\"DisplayName\":\"Ste\"},{\"Id\":1277,\"DisplayName\":\"NetStarter\"},{\"Id\":1723,\"DisplayName\":\"Ben Miller\"}]}\n",
      "67d78e02-caa3-4fd2-8b6b-0a7fd7a9e673\n",
      "3645\n",
      "['Comment', 'PostId', 'UserId', 'PostHistoryTypeId', 'Text', 'RevisionGUID', 'CreationDate', 'Id']\n",
      "PostHistory ID: 13949\n",
      "{\"OriginalQuestionIds\":[2079],\"Voters\":[{\"Id\":753,\"DisplayName\":\"Sports Fan\"},{\"Id\":540,\"DisplayName\":\"hims056\"},{\"Id\":1277,\"DisplayName\":\"NetStarter\"},{\"Id\":768,\"DisplayName\":\"Spinner\"},{\"Id\":496,\"DisplayName\":\"Ste\"}]}\n",
      "1d4817f8-7dd7-4bed-aeb8-274d32f7c6a2\n",
      "3667\n",
      "['Comment', 'PostId', 'UserId', 'PostHistoryTypeId', 'Text', 'RevisionGUID', 'CreationDate', 'Id']\n",
      "PostHistory ID: 13951\n",
      "{\"OriginalQuestionIds\":[2111],\"Voters\":[{\"Id\":753,\"DisplayName\":\"Sports Fan\"},{\"Id\":540,\"DisplayName\":\"hims056\"},{\"Id\":1277,\"DisplayName\":\"NetStarter\"},{\"Id\":496,\"DisplayName\":\"Ste\"},{\"Id\":527,\"DisplayName\":\"edmastermind29\"}]}\n",
      "e8f1ab43-98c2-4506-8499-140e240d7c56\n",
      "3655\n",
      "['Comment', 'PostId', 'UserId', 'PostHistoryTypeId', 'Text', 'RevisionGUID', 'CreationDate', 'Id']\n",
      "PostHistory ID: 14549\n",
      "{\"OriginalQuestionIds\":[1123],\"Voters\":[{\"Id\":6,\"DisplayName\":\"wax eagle\"},{\"Id\":527,\"DisplayName\":\"edmastermind29\"}]}\n",
      "471e66cd-ac3d-46a0-b66a-cc551c08f033\n",
      "3832\n",
      "['Comment', 'PostId', 'UserId', 'PostHistoryTypeId', 'Text', 'RevisionGUID', 'CreationDate', 'Id']\n",
      "PostHistory ID: 15988\n",
      "{\"OriginalQuestionIds\":[3490],\"Voters\":[{\"Id\":1237,\"DisplayName\":\"Martin\"},{\"Id\":768,\"DisplayName\":\"Spinner\"},{\"Id\":540,\"DisplayName\":\"hims056\"},{\"Id\":753,\"DisplayName\":\"Sports Fan\"},{\"Id\":1455,\"DisplayName\":\"Jacob Jan Tuinstra\"}]}\n",
      "1ec06920-b336-4d6d-8fce-b6df7c497a9a\n",
      "4242\n",
      "['Comment', 'PostId', 'UserId', 'PostHistoryTypeId', 'Text', 'RevisionGUID', 'CreationDate', 'Id']\n",
      "PostHistory ID: 16346\n",
      "{\"OriginalQuestionIds\":[179],\"Voters\":[{\"Id\":1626,\"DisplayName\":\"Nicholas V.\"},{\"Id\":1947,\"DisplayName\":\"RoB\"},{\"Id\":1277,\"DisplayName\":\"NetStarter\"},{\"Id\":6,\"DisplayName\":\"wax eagle\"},{\"Id\":527,\"DisplayName\":\"edmastermind29\"}]}\n",
      "cdc27836-1190-4de3-90e2-e5f76c019ac9\n",
      "4326\n",
      "['Comment', 'PostId', 'UserId', 'PostHistoryTypeId', 'Text', 'RevisionGUID', 'CreationDate', 'Id']\n",
      "PostHistory ID: 16834\n",
      "{\"OriginalQuestionIds\":[2298],\"Voters\":[{\"Id\":753,\"DisplayName\":\"Sports Fan\"},{\"Id\":540,\"DisplayName\":\"hims056\"},{\"Id\":527,\"DisplayName\":\"edmastermind29\"}]}\n",
      "de890574-b4a8-4cea-a99a-3416f8d9283f\n",
      "4502\n",
      "['Comment', 'PostId', 'UserId', 'PostHistoryTypeId', 'Text', 'RevisionGUID', 'CreationDate', 'Id']\n",
      "PostHistory ID: 16929\n",
      "{\"OriginalQuestionIds\":[3],\"Voters\":[{\"Id\":6,\"DisplayName\":\"wax eagle\"},{\"Id\":540,\"DisplayName\":\"hims056\"},{\"Id\":1626,\"DisplayName\":\"Nicholas V.\"},{\"Id\":527,\"DisplayName\":\"edmastermind29\"}]}\n",
      "80d01802-d65f-4ea8-ac49-bd455713c9fc\n",
      "4523\n",
      "['Comment', 'PostId', 'UserId', 'PostHistoryTypeId', 'Text', 'RevisionGUID', 'CreationDate', 'Id']\n",
      "PostHistory ID: 17057\n",
      "{\"OriginalQuestionIds\":[2697],\"Voters\":[{\"Id\":675,\"DisplayName\":\"Bogdanovist\"},{\"Id\":540,\"DisplayName\":\"hims056\"},{\"Id\":753,\"DisplayName\":\"Sports Fan\"},{\"Id\":1455,\"DisplayName\":\"Jacob Jan Tuinstra\"},{\"Id\":527,\"DisplayName\":\"edmastermind29\"}]}\n",
      "c0643a58-bce0-4983-a6f1-4369e5a405f6\n",
      "4572\n",
      "['Comment', 'PostId', 'UserId', 'PostHistoryTypeId', 'Text', 'RevisionGUID', 'CreationDate', 'Id']\n",
      "PostHistory ID: 18434\n",
      "{\"OriginalQuestionIds\":[3304],\"Voters\":[{\"Id\":540,\"DisplayName\":\"hims056\"},{\"Id\":12,\"DisplayName\":\"Michael Myers\"}]}\n",
      "06f9f283-98a1-465a-9050-39a73e78a8b0\n",
      "4967\n",
      "['Comment', 'PostId', 'UserId', 'PostHistoryTypeId', 'Text', 'RevisionGUID', 'CreationDate', 'Id']\n",
      "PostHistory ID: 19028\n",
      "{\"OriginalQuestionIds\":[4998],\"Voters\":[{\"Id\":3526,\"DisplayName\":\"studro\"},{\"Id\":6,\"DisplayName\":\"wax eagle\"},{\"Id\":540,\"DisplayName\":\"hims056\"},{\"Id\":753,\"DisplayName\":\"Sports Fan\"},{\"Id\":385,\"DisplayName\":\"Dor Cohen\"}]}\n",
      "9492eb62-f0ae-438c-8d94-3de994f70ef5\n",
      "5106\n",
      "['Comment', 'PostId', 'UserId', 'PostHistoryTypeId', 'Text', 'RevisionGUID', 'CreationDate', 'Id']\n",
      "PostHistory ID: 19235\n",
      "{\"OriginalQuestionIds\":[4723],\"Voters\":[{\"Id\":3526,\"DisplayName\":\"studro\"},{\"Id\":1455,\"DisplayName\":\"Jacob Jan Tuinstra\"},{\"Id\":753,\"DisplayName\":\"Sports Fan\"},{\"Id\":540,\"DisplayName\":\"hims056\"},{\"Id\":12,\"DisplayName\":\"Michael Myers\"}]}\n",
      "a53b3951-7481-4672-a7bc-4d62bcdbc889\n",
      "5163\n",
      "['Comment', 'PostId', 'UserId', 'PostHistoryTypeId', 'Text', 'RevisionGUID', 'CreationDate', 'Id']\n",
      "PostHistory ID: 25585\n",
      "{\"OriginalQuestionIds\":[1326],\"Voters\":[{\"Id\":3671,\"DisplayName\":\"alamoot\"},{\"Id\":3414,\"DisplayName\":\"SahuKahn\"},{\"Id\":540,\"DisplayName\":\"hims056\"},{\"Id\":3526,\"DisplayName\":\"studro\"},{\"Id\":6126,\"DisplayName\":\"Philip Kendall\"}]}\n",
      "8d7cf818-f8c7-4ebf-9ad9-4c6922422ff4\n",
      "7443\n",
      "['Comment', 'PostId', 'UserId', 'PostHistoryTypeId', 'Text', 'RevisionGUID', 'CreationDate', 'Id']\n",
      "PostHistory ID: 25586\n",
      "{\"OriginalQuestionIds\":[7432],\"Voters\":[{\"Id\":3414,\"DisplayName\":\"SahuKahn\"},{\"Id\":540,\"DisplayName\":\"hims056\"},{\"Id\":3526,\"DisplayName\":\"studro\"},{\"Id\":6126,\"DisplayName\":\"Philip Kendall\"},{\"Id\":1219,\"DisplayName\":\"Dirty-flow\"}]}\n",
      "3f0e5437-d380-4467-a67e-28aac3d7d93e\n",
      "7442\n",
      "['Comment', 'PostId', 'UserId', 'PostHistoryTypeId', 'Text', 'RevisionGUID', 'CreationDate', 'Id']\n",
      "PostHistory ID: 26645\n",
      "{\"OriginalQuestionIds\":[5491],\"Voters\":[{\"Id\":6126,\"DisplayName\":\"Philip Kendall\"},{\"Id\":1723,\"DisplayName\":\"Ben Miller\"},{\"Id\":1219,\"DisplayName\":\"Dirty-flow\"},{\"Id\":6,\"DisplayName\":\"wax eagle\"},{\"Id\":527,\"DisplayName\":\"edmastermind29\"}]}\n",
      "0841af3a-3326-46ec-aeff-0f1720efab3f\n",
      "8497\n",
      "['Comment', 'PostId', 'UserId', 'PostHistoryTypeId', 'Text', 'RevisionGUID', 'CreationDate', 'Id']\n",
      "PostHistory ID: 26826\n",
      "{\"OriginalQuestionIds\":[2611],\"Voters\":[{\"Id\":527,\"DisplayName\":\"edmastermind29\"}]}\n",
      "b654d54c-3192-4dd5-9199-80de7af80cc4\n",
      "7231\n",
      "['Comment', 'PostId', 'UserId', 'PostHistoryTypeId', 'Text', 'RevisionGUID', 'CreationDate', 'Id']\n",
      "PostHistory ID: 27335\n",
      "{\"OriginalQuestionIds\":[692],\"Voters\":[{\"Id\":6126,\"DisplayName\":\"Philip Kendall\"},{\"Id\":3414,\"DisplayName\":\"SahuKahn\"},{\"Id\":1277,\"DisplayName\":\"NetStarter\"},{\"Id\":1723,\"DisplayName\":\"Ben Miller\"},{\"Id\":1237,\"DisplayName\":\"Martin\"}]}\n",
      "e13785cb-45f0-45c3-9b91-dc3711211474\n",
      "8737\n",
      "['Comment', 'PostId', 'UserId', 'PostHistoryTypeId', 'Text', 'RevisionGUID', 'CreationDate', 'Id']\n",
      "PostHistory ID: 27575\n",
      "{\"OriginalQuestionIds\":[524],\"Voters\":[{\"Id\":6126,\"DisplayName\":\"Philip Kendall\"},{\"Id\":540,\"DisplayName\":\"hims056\"},{\"Id\":6232,\"DisplayName\":\"Joe\"},{\"Id\":527,\"DisplayName\":\"edmastermind29\"}]}\n",
      "e1ea6f8e-7e16-4fe8-b1e6-74a9fc51f0f4\n",
      "8809\n",
      "['Comment', 'PostId', 'UserId', 'PostHistoryTypeId', 'Text', 'RevisionGUID', 'CreationDate', 'Id']\n",
      "PostHistory ID: 27758\n",
      "{\"OriginalQuestionIds\":[3897],\"Voters\":[{\"Id\":6126,\"DisplayName\":\"Philip Kendall\"},{\"Id\":1219,\"DisplayName\":\"Dirty-flow\"},{\"Id\":527,\"DisplayName\":\"edmastermind29\"}]}\n",
      "5ecf9414-0cdb-4c95-8238-8473b1a1ecfa\n",
      "8876\n",
      "['Comment', 'PostId', 'UserId', 'PostHistoryTypeId', 'Text', 'RevisionGUID', 'CreationDate', 'Id']\n",
      "PostHistory ID: 27812\n",
      "{\"OriginalQuestionIds\":[324],\"Voters\":[{\"Id\":6232,\"DisplayName\":\"Joe\"},{\"Id\":3414,\"DisplayName\":\"SahuKahn\"},{\"Id\":753,\"DisplayName\":\"Sports Fan\"},{\"Id\":540,\"DisplayName\":\"hims056\"},{\"Id\":1219,\"DisplayName\":\"Dirty-flow\"}]}\n",
      "29fec3ee-e67b-43bc-abe9-21dde6bd08f7\n",
      "8882\n",
      "['Comment', 'PostId', 'UserId', 'PostHistoryTypeId', 'Text', 'RevisionGUID', 'CreationDate', 'Id']\n",
      "PostHistory ID: 27916\n",
      "{\"OriginalQuestionIds\":[663],\"Voters\":[{\"Id\":6126,\"DisplayName\":\"Philip Kendall\"},{\"Id\":6049,\"DisplayName\":\"Duncan\"},{\"Id\":753,\"DisplayName\":\"Sports Fan\"},{\"Id\":18,\"DisplayName\":\"jamauss\"}]}\n",
      "0ee95b43-eb1d-45f2-b315-e83932999930\n",
      "8927\n",
      "['Comment', 'PostId', 'UserId', 'PostHistoryTypeId', 'Text', 'RevisionGUID', 'CreationDate', 'Id']\n",
      "PostHistory ID: 27980\n",
      "{\"OriginalQuestionIds\":[2241],\"Voters\":[{\"Id\":540,\"DisplayName\":\"hims056\"},{\"Id\":1277,\"DisplayName\":\"NetStarter\"},{\"Id\":6126,\"DisplayName\":\"Philip Kendall\"},{\"Id\":527,\"DisplayName\":\"edmastermind29\"}]}\n",
      "2df461f1-a687-46b0-afbe-82cb6bad38f2\n",
      "8954\n",
      "['Comment', 'PostId', 'UserId', 'PostHistoryTypeId', 'Text', 'RevisionGUID', 'CreationDate', 'Id']\n",
      "PostHistory ID: 28041\n",
      "{\"OriginalQuestionIds\":[8925],\"Voters\":[{\"Id\":6126,\"DisplayName\":\"Philip Kendall\"},{\"Id\":1219,\"DisplayName\":\"Dirty-flow\"},{\"Id\":1277,\"DisplayName\":\"NetStarter\"},{\"Id\":540,\"DisplayName\":\"hims056\"},{\"Id\":6436,\"DisplayName\":\"Coach-D\"}]}\n",
      "146d45a5-44df-4872-ba66-19de90bbc3ae\n",
      "8963\n",
      "['Comment', 'PostId', 'UserId', 'PostHistoryTypeId', 'Text', 'RevisionGUID', 'CreationDate', 'Id']\n",
      "PostHistory ID: 28307\n",
      "{\"OriginalQuestionIds\":[1722],\"Voters\":[{\"Id\":6126,\"DisplayName\":\"Philip Kendall\"},{\"Id\":110,\"DisplayName\":\"Fillet\"},{\"Id\":6039,\"DisplayName\":\"TrueDub\"},{\"Id\":-1,\"DisplayName\":\"Community\",\"BindingReason\":{\"DuplicateApprovedByAsker\":\"\"}}]}\n",
      "8043a8d5-f753-4207-9560-c01f6cd5c993\n",
      "9074\n",
      "['Comment', 'PostId', 'UserId', 'PostHistoryTypeId', 'Text', 'RevisionGUID', 'CreationDate', 'Id']\n",
      "PostHistory ID: 29905\n",
      "{\"OriginalQuestionIds\":[2626],\"Voters\":[{\"Id\":6126,\"DisplayName\":\"Philip Kendall\"},{\"Id\":364,\"DisplayName\":\"posdef\"},{\"Id\":1723,\"DisplayName\":\"Ben Miller\"},{\"Id\":753,\"DisplayName\":\"Sports Fan\"},{\"Id\":110,\"DisplayName\":\"Fillet\"}]}\n",
      "0f4a6b18-3dd9-417b-b6ee-5579f73fbdd6\n",
      "10278\n",
      "['Comment', 'PostId', 'UserId', 'PostHistoryTypeId', 'Text', 'RevisionGUID', 'CreationDate', 'Id']\n",
      "PostHistory ID: 30030\n",
      "{\"OriginalQuestionIds\":[3503],\"Voters\":[{\"Id\":6126,\"DisplayName\":\"Philip Kendall\"},{\"Id\":3414,\"DisplayName\":\"SahuKahn\"},{\"Id\":6039,\"DisplayName\":\"TrueDub\"},{\"Id\":110,\"DisplayName\":\"Fillet\"},{\"Id\":753,\"DisplayName\":\"Sports Fan\"}]}\n",
      "f22432a8-9d1e-4eb0-b3da-c532ffc033fd\n",
      "10319\n",
      "['Comment', 'PostId', 'UserId', 'PostHistoryTypeId', 'Text', 'RevisionGUID', 'CreationDate', 'Id']\n",
      "PostHistory ID: 30112\n",
      "{\"OriginalQuestionIds\":[2651],\"Voters\":[{\"Id\":6126,\"DisplayName\":\"Philip Kendall\"},{\"Id\":110,\"DisplayName\":\"Fillet\"},{\"Id\":527,\"DisplayName\":\"edmastermind29\"}]}\n",
      "f787f9d9-3031-4492-b802-35b05a8c3042\n",
      "10354\n",
      "['Comment', 'PostId', 'UserId', 'PostHistoryTypeId', 'Text', 'RevisionGUID', 'CreationDate', 'Id']\n",
      "PostHistory ID: 30260\n",
      "{\"OriginalQuestionIds\":[4183],\"Voters\":[{\"Id\":61,\"DisplayName\":\"JW8\"},{\"Id\":6126,\"DisplayName\":\"Philip Kendall\"},{\"Id\":364,\"DisplayName\":\"posdef\"},{\"Id\":527,\"DisplayName\":\"edmastermind29\"}]}\n",
      "daf7d007-4a21-4662-a308-64fa9fb6e3f1\n",
      "10388\n",
      "['Comment', 'PostId', 'UserId', 'PostHistoryTypeId', 'Text', 'RevisionGUID', 'CreationDate', 'Id']\n",
      "PostHistory ID: 30830\n",
      "{\"OriginalQuestionIds\":[9121],\"Voters\":[{\"Id\":6232,\"DisplayName\":\"Joe\"},{\"Id\":7548,\"DisplayName\":\"jerepierre\"},{\"Id\":18,\"DisplayName\":\"jamauss\"}]}\n",
      "0ce8f478-62cf-46ca-a53a-142e1cbd92be\n",
      "10591\n",
      "['Comment', 'PostId', 'UserId', 'PostHistoryTypeId', 'Text', 'RevisionGUID', 'CreationDate', 'Id']\n",
      "PostHistory ID: 30919\n",
      "{\"OriginalQuestionIds\":[1595],\"Voters\":[{\"Id\":6232,\"DisplayName\":\"Joe\"},{\"Id\":110,\"DisplayName\":\"Fillet\"},{\"Id\":527,\"DisplayName\":\"edmastermind29\"}]}\n",
      "ad9ae794-8254-4474-8833-51f19998106c\n",
      "9121\n",
      "['Comment', 'PostId', 'UserId', 'PostHistoryTypeId', 'Text', 'RevisionGUID', 'CreationDate', 'Id']\n",
      "PostHistory ID: 31128\n",
      "{\"OriginalQuestionIds\":[1148],\"Voters\":[{\"Id\":6126,\"DisplayName\":\"Philip Kendall\"},{\"Id\":7548,\"DisplayName\":\"jerepierre\"},{\"Id\":8937,\"DisplayName\":\"New-To-IT\"},{\"Id\":6232,\"DisplayName\":\"Joe\"},{\"Id\":1277,\"DisplayName\":\"NetStarter\"}]}\n",
      "5aa43225-476d-4913-b212-30833e3d1c7b\n",
      "10651\n",
      "['Comment', 'PostId', 'UserId', 'PostHistoryTypeId', 'Text', 'RevisionGUID', 'CreationDate', 'Id']\n",
      "PostHistory ID: 31243\n",
      "{\"OriginalQuestionIds\":[3030],\"Voters\":[{\"Id\":6232,\"DisplayName\":\"Joe\"},{\"Id\":3526,\"DisplayName\":\"studro\"},{\"Id\":527,\"DisplayName\":\"edmastermind29\"}]}\n",
      "41de992d-fedb-477f-8a5a-872f1071e819\n",
      "10687\n",
      "['Comment', 'PostId', 'UserId', 'PostHistoryTypeId', 'Text', 'RevisionGUID', 'CreationDate', 'Id']\n",
      "PostHistory ID: 31281\n",
      "{\"OriginalQuestionIds\":[3546],\"Voters\":[{\"Id\":6232,\"DisplayName\":\"Joe\"},{\"Id\":6126,\"DisplayName\":\"Philip Kendall\"},{\"Id\":527,\"DisplayName\":\"edmastermind29\"}]}\n",
      "cba8fee3-c02f-44a1-9918-9dd5e4c4ee23\n",
      "10732\n",
      "['Comment', 'PostId', 'UserId', 'PostHistoryTypeId', 'Text', 'RevisionGUID', 'CreationDate', 'Id']\n",
      "PostHistory ID: 31291\n",
      "{\"OriginalQuestionIds\":[8846],\"Voters\":[{\"Id\":6126,\"DisplayName\":\"Philip Kendall\"},{\"Id\":7548,\"DisplayName\":\"jerepierre\"},{\"Id\":3526,\"DisplayName\":\"studro\"},{\"Id\":1831,\"DisplayName\":\"Ale\"},{\"Id\":110,\"DisplayName\":\"Fillet\"}]}\n",
      "a3a82492-e504-44bd-b9c1-4d48485eefd9\n",
      "10737\n",
      "['Comment', 'PostId', 'UserId', 'PostHistoryTypeId', 'Text', 'RevisionGUID', 'CreationDate', 'Id']\n",
      "PostHistory ID: 32803\n",
      "{\"OriginalQuestionIds\":[2358],\"Voters\":[{\"Id\":110,\"DisplayName\":\"Fillet\"},{\"Id\":6126,\"DisplayName\":\"Philip Kendall\"},{\"Id\":6039,\"DisplayName\":\"TrueDub\"},{\"Id\":1831,\"DisplayName\":\"Ale\"},{\"Id\":527,\"DisplayName\":\"edmastermind29\"}]}\n",
      "1e93ce6d-346f-434a-944b-89d0606049a8\n",
      "11901\n",
      "['Comment', 'PostId', 'UserId', 'PostHistoryTypeId', 'Text', 'RevisionGUID', 'CreationDate', 'Id']\n",
      "PostHistory ID: 32870\n",
      "{\"OriginalQuestionIds\":[2574],\"Voters\":[{\"Id\":6126,\"DisplayName\":\"Philip Kendall\"},{\"Id\":8937,\"DisplayName\":\"New-To-IT\"},{\"Id\":1277,\"DisplayName\":\"NetStarter\"},{\"Id\":527,\"DisplayName\":\"edmastermind29\"}]}\n",
      "1f3377e9-c5a5-4829-96c1-7d1ac5e9bfdf\n",
      "11902\n",
      "['Comment', 'PostId', 'UserId', 'PostHistoryTypeId', 'Text', 'RevisionGUID', 'CreationDate', 'Id']\n",
      "PostHistory ID: 33108\n",
      "{\"OriginalQuestionIds\":[252],\"Voters\":[{\"Id\":6126,\"DisplayName\":\"Philip Kendall\"},{\"Id\":6232,\"DisplayName\":\"Joe\"},{\"Id\":477,\"DisplayName\":\"gbianchi\"},{\"Id\":8937,\"DisplayName\":\"New-To-IT\"},{\"Id\":527,\"DisplayName\":\"edmastermind29\"}]}\n",
      "3a19d2d4-0a38-4209-a1d8-a7fb232cf89e\n",
      "11990\n",
      "['Comment', 'PostId', 'UserId', 'PostHistoryTypeId', 'Text', 'RevisionGUID', 'CreationDate', 'Id']\n",
      "PostHistory ID: 33180\n",
      "{\"OriginalQuestionIds\":[9100],\"Voters\":[{\"Id\":6126,\"DisplayName\":\"Philip Kendall\"},{\"Id\":-1,\"DisplayName\":\"Community\",\"BindingReason\":{\"DuplicateApprovedByAsker\":\"\"}}]}\n",
      "ae78b2ce-a509-4b10-86f4-e94f60b68381\n",
      "12014\n",
      "['Comment', 'PostId', 'UserId', 'PostHistoryTypeId', 'Text', 'RevisionGUID', 'CreationDate', 'Id']\n",
      "PostHistory ID: 33191\n",
      "{\"OriginalQuestionIds\":[1335],\"Voters\":[{\"Id\":527,\"DisplayName\":\"edmastermind29\"}]}\n",
      "dd8ba8cd-1d71-4e6c-9324-f2c976c1fa2c\n",
      "12010\n",
      "['Comment', 'PostId', 'UserId', 'PostHistoryTypeId', 'Text', 'RevisionGUID', 'CreationDate', 'Id']\n",
      "PostHistory ID: 33833\n",
      "{\"OriginalQuestionIds\":[3788],\"Voters\":[{\"Id\":1630,\"DisplayName\":\"KharoBangdo\"},{\"Id\":6126,\"DisplayName\":\"Philip Kendall\"},{\"Id\":8937,\"DisplayName\":\"New-To-IT\"},{\"Id\":-1,\"DisplayName\":\"Community\",\"BindingReason\":{\"DuplicateApprovedByAsker\":\"\"}}]}\n",
      "8e36cf76-6786-4e62-bf6c-35cf969eb36a\n",
      "12183\n",
      "['Comment', 'PostId', 'UserId', 'PostHistoryTypeId', 'Text', 'RevisionGUID', 'CreationDate', 'Id']\n",
      "PostHistory ID: 33915\n",
      "{\"OriginalQuestionIds\":[3696],\"Voters\":[{\"Id\":1630,\"DisplayName\":\"KharoBangdo\"},{\"Id\":6126,\"DisplayName\":\"Philip Kendall\"},{\"Id\":8937,\"DisplayName\":\"New-To-IT\"},{\"Id\":1277,\"DisplayName\":\"NetStarter\"},{\"Id\":7723,\"DisplayName\":\"Don_Biglia\"}]}\n",
      "65463158-d4d7-4c85-a636-f8178f7105d1\n",
      "12197\n",
      "['Comment', 'PostId', 'UserId', 'PostHistoryTypeId', 'Text', 'RevisionGUID', 'CreationDate', 'Id']\n",
      "PostHistory ID: 34036\n",
      "{\"OriginalQuestionIds\":[7195],\"Voters\":[{\"Id\":527,\"DisplayName\":\"mastermind_ed\"}]}\n",
      "075bcde7-620a-46c3-ad9c-cfd1d4298004\n",
      "12274\n",
      "['Comment', 'PostId', 'UserId', 'PostHistoryTypeId', 'Text', 'RevisionGUID', 'CreationDate', 'Id']\n",
      "PostHistory ID: 34164\n",
      "{\"OriginalQuestionIds\":[2682],\"Voters\":[{\"Id\":768,\"DisplayName\":\"Spinner\"},{\"Id\":6126,\"DisplayName\":\"Philip Kendall\"},{\"Id\":1277,\"DisplayName\":\"NetStarter\"},{\"Id\":1630,\"DisplayName\":\"KharoBangdo\"},{\"Id\":7723,\"DisplayName\":\"Don_Biglia\"}]}\n",
      "78b83770-33fc-488b-9ce3-d77f5285788e\n",
      "12311\n",
      "['Comment', 'PostId', 'UserId', 'PostHistoryTypeId', 'Text', 'RevisionGUID', 'CreationDate', 'Id']\n",
      "PostHistory ID: 34602\n",
      "{\"OriginalQuestionIds\":[4996],\"Voters\":[{\"Id\":110,\"DisplayName\":\"Fillet\"},{\"Id\":6126,\"DisplayName\":\"Philip Kendall\"},{\"Id\":6039,\"DisplayName\":\"TrueDub\"},{\"Id\":8937,\"DisplayName\":\"New-To-IT\"},{\"Id\":3526,\"DisplayName\":\"studro\"}]}\n",
      "c900757e-90d3-4fb3-9871-008e38f9c2eb\n",
      "12458\n",
      "['Comment', 'PostId', 'UserId', 'PostHistoryTypeId', 'Text', 'RevisionGUID', 'CreationDate', 'Id']\n",
      "PostHistory ID: 34774\n",
      "{\"OriginalQuestionIds\":[7151],\"Voters\":[{\"Id\":110,\"DisplayName\":\"Fillet\"},{\"Id\":6126,\"DisplayName\":\"Philip Kendall\"},{\"Id\":7723,\"DisplayName\":\"Don_Biglia\"},{\"Id\":1277,\"DisplayName\":\"NetStarter\"},{\"Id\":-1,\"DisplayName\":\"Community\",\"BindingReason\":{\"DuplicateApprovedByAsker\":\"\"}}]}\n",
      "6d8c5a76-bccc-4d79-b2aa-e5cd6543396b\n",
      "12519\n",
      "['Comment', 'PostId', 'UserId', 'PostHistoryTypeId', 'Text', 'RevisionGUID', 'CreationDate', 'Id']\n",
      "PostHistory ID: 35159\n",
      "{\"OriginalQuestionIds\":[8660],\"Voters\":[{\"Id\":6126,\"DisplayName\":\"Philip Kendall\"},{\"Id\":9129,\"DisplayName\":\"Ben Whyall\"},{\"Id\":110,\"DisplayName\":\"Fillet\"},{\"Id\":8937,\"DisplayName\":\"New-To-IT\"},{\"Id\":18,\"DisplayName\":\"jamauss\"}]}\n",
      "98fc12a2-5e06-44dd-adde-c1f7678c7e5a\n",
      "12622\n",
      "['Comment', 'PostId', 'UserId', 'PostHistoryTypeId', 'Text', 'RevisionGUID', 'CreationDate', 'Id']\n",
      "PostHistory ID: 35195\n",
      "{\"OriginalQuestionIds\":[2611],\"Voters\":[{\"Id\":6126,\"DisplayName\":\"Philip Kendall\"},{\"Id\":1831,\"DisplayName\":\"Ale\"},{\"Id\":8937,\"DisplayName\":\"New-To-IT\"},{\"Id\":6039,\"DisplayName\":\"TrueDub\"},{\"Id\":527,\"DisplayName\":\"mastermind_ed\"}]}\n",
      "813369b8-d31f-41bb-957b-0e4a59f78c0f\n",
      "12640\n",
      "['Comment', 'PostId', 'UserId', 'PostHistoryTypeId', 'Text', 'RevisionGUID', 'CreationDate', 'Id']\n",
      "PostHistory ID: 35823\n",
      "{\"OriginalQuestionIds\":[2611],\"Voters\":[{\"Id\":6126,\"DisplayName\":\"Philip Kendall\"},{\"Id\":6039,\"DisplayName\":\"TrueDub\"},{\"Id\":1277,\"DisplayName\":\"NetStarter\"},{\"Id\":527,\"DisplayName\":\"mastermind_ed\"}]}\n",
      "4ca0ec61-0e99-490c-9553-d268c9a752ee\n",
      "12853\n",
      "['Comment', 'PostId', 'UserId', 'PostHistoryTypeId', 'Text', 'RevisionGUID', 'CreationDate', 'Id']\n",
      "PostHistory ID: 36517\n",
      "{\"OriginalQuestionIds\":[13060],\"Voters\":[{\"Id\":527,\"DisplayName\":\"ᴍᴀsᴛᴇʀᴍɪɴᴅ_ᴇᴅ\"}]}\n",
      "d870c617-5aa2-4e08-b27c-0a6e64972421\n",
      "13065\n",
      "['Comment', 'PostId', 'UserId', 'PostHistoryTypeId', 'Text', 'RevisionGUID', 'CreationDate', 'Id']\n",
      "PostHistory ID: 36639\n",
      "{\"OriginalQuestionIds\":[8846],\"Voters\":[{\"Id\":6126,\"DisplayName\":\"Philip Kendall\"},{\"Id\":1831,\"DisplayName\":\"Ale\"},{\"Id\":6039,\"DisplayName\":\"TrueDub\"},{\"Id\":8937,\"DisplayName\":\"New-To-IT\"},{\"Id\":527,\"DisplayName\":\"ᴍᴀsᴛᴇʀᴍɪɴᴅ_ᴇᴅ\"}]}\n",
      "25cc6b9d-59b7-485a-a73a-6a65431e3921\n",
      "13101\n",
      "['Comment', 'PostId', 'UserId', 'PostHistoryTypeId', 'Text', 'RevisionGUID', 'CreationDate', 'Id']\n",
      "PostHistory ID: 36878\n",
      "{\"OriginalQuestionIds\":[13141],\"Voters\":[{\"Id\":527,\"DisplayName\":\"ᴍᴀsᴛᴇʀᴍɪɴᴅ_ᴇᴅ\"}]}\n",
      "03c2d307-e0be-45ce-8686-214a10f95b98\n",
      "13144\n",
      "['Comment', 'PostId', 'UserId', 'PostHistoryTypeId', 'Text', 'RevisionGUID', 'CreationDate', 'Id']\n",
      "PostHistory ID: 36913\n",
      "{\"OriginalQuestionIds\":[97],\"Voters\":[{\"Id\":527,\"DisplayName\":\"ᴍᴀsᴛᴇʀᴍɪɴᴅ_ᴇᴅ\"}]}\n",
      "ff690ca2-b35f-439b-8b01-931e7e983f9c\n",
      "13157\n",
      "['Comment', 'PostId', 'UserId', 'PostHistoryTypeId', 'Text', 'RevisionGUID', 'CreationDate', 'Id']\n",
      "PostHistory ID: 37118\n",
      "{\"OriginalQuestionIds\":[3354],\"Voters\":[{\"Id\":110,\"DisplayName\":\"Fillet\"},{\"Id\":1831,\"DisplayName\":\"Ale\"},{\"Id\":6039,\"DisplayName\":\"TrueDub\"},{\"Id\":6126,\"DisplayName\":\"Philip Kendall\"},{\"Id\":6232,\"DisplayName\":\"Joe\"}]}\n",
      "ff029ca6-c6bd-4ea5-82ab-44d8599ce236\n",
      "13208\n",
      "['Comment', 'PostId', 'UserId', 'PostHistoryTypeId', 'Text', 'RevisionGUID', 'CreationDate', 'Id']\n",
      "PostHistory ID: 37178\n",
      "{\"OriginalQuestionIds\":[12100],\"Voters\":[{\"Id\":6126,\"DisplayName\":\"Philip Kendall\"},{\"Id\":1831,\"DisplayName\":\"Ale\"},{\"Id\":6039,\"DisplayName\":\"TrueDub\"},{\"Id\":527,\"DisplayName\":\"ᴍᴀsᴛᴇʀᴍɪɴᴅ_ᴇᴅ\"}]}\n",
      "e6c13fac-f6a6-4685-b476-94453ec33f3a\n",
      "13220\n",
      "['Comment', 'PostId', 'UserId', 'PostHistoryTypeId', 'Text', 'RevisionGUID', 'CreationDate', 'Id']\n"
     ]
    }
   ],
   "source": [
    "close_code = '10'\n",
    "edit_body_code = '5'\n",
    "duplicate_codes = ('1', '101')\n",
    "voted_to_close = root.findall(\".//row[@PostHistoryTypeId='{0}']\".format(close_code))\n",
    "for entry in voted_to_close:\n",
    "    close_reason = entry.attrib['Comment']\n",
    "    if close_reason in duplicate_codes:\n",
    "        print \"PostHistory ID: {0}\".format(entry.attrib['Id'])\n",
    "        print entry.attrib['Text']\n",
    "        print entry.attrib['RevisionGUID']\n",
    "        print entry.attrib['PostId']\n",
    "        print entry.attrib.keys()"
   ]
  },
  {
   "cell_type": "markdown",
   "metadata": {
    "collapsed": true
   },
   "source": [
    "The `Text` attribute in a PostHistory event indicating a post was closed as a duplicate is itself a JSON-formatted string describing the vote to close. It is unclear where other information relevant to the closing event is stored.\n",
    "\n",
    "There is, for instance, an event populated by the Community user that adds the \"Possible Duplicate\" boilerplate on the post:"
   ]
  },
  {
   "cell_type": "code",
   "execution_count": 7,
   "metadata": {
    "collapsed": false
   },
   "outputs": [
    {
     "name": "stdout",
     "output_type": "stream",
     "text": [
      "{'Comment': 'insert duplicate link',\n",
      " 'CreationDate': '2012-03-22T14:35:03.113',\n",
      " 'Id': '1584',\n",
      " 'PostHistoryTypeId': '5',\n",
      " 'PostId': '562',\n",
      " 'RevisionGUID': '8c47ddc6-e49b-4170-9bad-0c0b6c477d58',\n",
      " 'Text': \"> **Possible Duplicate:**  \\n> [Why is FIFA against adding instant replay to the game?](http://sports.stackexchange.com/questions/179/why-is-fifa-against-adding-instant-replay-to-the-game)  \\n\\n<!-- End of automatically inserted text -->\\n\\nAfter watching England's world cup match i was eagerly waiting for FIFA to introduce the goal line technology. But it hasn't come out yet. \\r\\n\\r\\nWhat are the disadvantages of using it? In all other games now days technology is very much used and has resulted in a reduction of refereeing or umpiring errors.  \\r\\n\\r\\nWhat has FIFA got against the use of technology in the game? \",\n",
      " 'UserId': '-1'}\n"
     ]
    }
   ],
   "source": [
    "add_boilerplate = root.findall(\".//row[@PostHistoryTypeId='{0}'][@Comment='insert duplicate link']\".format(edit_body_code))\n",
    "pprint(add_boilerplate[0].attrib)"
   ]
  },
  {
   "cell_type": "markdown",
   "metadata": {},
   "source": [
    "That appears to be triggered by the initial vote to close, for this post. It is also theoretically possible for a post to be *flagged* as a duplicate by a different mechanism, which conceivably would not show up in the PostHistory but in wherever the Flag histories are kept."
   ]
  },
  {
   "cell_type": "code",
   "execution_count": null,
   "metadata": {
    "collapsed": true
   },
   "outputs": [],
   "source": []
  }
 ],
 "metadata": {
  "kernelspec": {
   "display_name": "Python 2",
   "language": "python",
   "name": "python2"
  },
  "language_info": {
   "codemirror_mode": {
    "name": "ipython",
    "version": 2
   },
   "file_extension": ".py",
   "mimetype": "text/x-python",
   "name": "python",
   "nbconvert_exporter": "python",
   "pygments_lexer": "ipython2",
   "version": "2.7.11"
  }
 },
 "nbformat": 4,
 "nbformat_minor": 0
}
