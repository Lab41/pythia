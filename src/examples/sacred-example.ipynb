{
 "cells": [
  {
   "cell_type": "code",
   "execution_count": 1,
   "metadata": {
    "collapsed": false
   },
   "outputs": [],
   "source": [
    "import pprint\n",
    "import os\n",
    "import time\n",
    "import random\n",
    "\n",
    "import sacred\n",
    "import pymongo\n",
    "from sacred import Experiment\n",
    "from sacred.observers import MongoObserver"
   ]
  },
  {
   "cell_type": "markdown",
   "metadata": {},
   "source": [
    "## Create Experiment Object"
   ]
  },
  {
   "cell_type": "code",
   "execution_count": 2,
   "metadata": {
    "collapsed": false
   },
   "outputs": [
    {
     "name": "stderr",
     "output_type": "stream",
     "text": [
      "/home/pcallier/.local/lib/python3.4/site-packages/sacred-0.6.9-py3.4.egg/sacred/dependencies.py:210: UserWarning: Defining an experiment in interactive mode! The sourcecode cannot be stored and the experiment won't be reproducible\n",
      "  warnings.warn(\"Defining an experiment in interactive mode! \"\n"
     ]
    }
   ],
   "source": [
    "ex_name='pythia_experiment'\n",
    "db_name='sacred_demo'\n",
    "\n",
    "# Check that MongoDB config is set\n",
    "try:\n",
    "    mongo_uri=os.environ['PYTHIA_MONGO_DB_URI']\n",
    "except KeyError as e:\n",
    "    print \"Must define location of MongoDB in PYTHIA_MONGO_DB_URI for observer output\"\n",
    "    raise\n",
    "\n",
    "# Don't create new experiment objects with the \n",
    "# same name in a single notebook session. This\n",
    "# code only creates the ex object if it isn't already an Experiment\n",
    "try:\n",
    "    assert type(ex) is Experiment\n",
    "except (NameError, AssertionError) as e:\n",
    "    ex = Experiment(ex_name)\n",
    "    ex.observers.append(MongoObserver.create(url=mongo_uri,\n",
    "                                         db_name=db_name))"
   ]
  },
  {
   "cell_type": "markdown",
   "metadata": {},
   "source": [
    "## Define Experiment"
   ]
  },
  {
   "cell_type": "code",
   "execution_count": 3,
   "metadata": {
    "collapsed": false
   },
   "outputs": [],
   "source": [
    "# Config blocks declare hyperparameters and default settings\n",
    "@ex.config\n",
    "def cfg():\n",
    "    min_locs = 3\n",
    "    dispersion_threshold = 50\n",
    "    num_partitions = 30\n",
    "    data_path = 'file:///data/*.json'\n",
    "    \n",
    "# Main blocks drive experiment logic\n",
    "@ex.main\n",
    "def run(min_locs, dispersion_threshold, num_partitions, data_path) :\n",
    "    time.sleep(2)\n",
    "    return [[1, 5, 6],[6,3,1]]"
   ]
  },
  {
   "cell_type": "markdown",
   "metadata": {},
   "source": [
    "## Run Experiment"
   ]
  },
  {
   "cell_type": "code",
   "execution_count": 4,
   "metadata": {
    "collapsed": false,
    "scrolled": false
   },
   "outputs": [
    {
     "name": "stderr",
     "output_type": "stream",
     "text": [
      "INFO - pythia_experiment - Running command 'run'\n",
      "INFO - pythia_experiment - Started\n",
      "INFO - pythia_experiment - Result: [[1, 5, 6], [6, 3, 1]]\n",
      "INFO - pythia_experiment - Completed after 0:00:02\n"
     ]
    },
    {
     "data": {
      "text/plain": [
       "<sacred.run.Run at 0x7f84144b6160>"
      ]
     },
     "execution_count": 4,
     "metadata": {},
     "output_type": "execute_result"
    }
   ],
   "source": [
    "# Call .run() on an Experiment to run it, optionally allowing \n",
    "# its parameters to be set according to experiment defaults\n",
    "ex.run()   # note that run parameters are magically filled in by cfg"
   ]
  },
  {
   "cell_type": "markdown",
   "metadata": {},
   "source": [
    "## Check MongoDB\n",
    "\n",
    "Shell out to mongo and get the runs database (run only if small); requires installation of mongodb client"
   ]
  },
  {
   "cell_type": "markdown",
   "metadata": {
    "collapsed": false,
    "scrolled": false
   },
   "source": [
    "%%bash\n",
    "\n",
    "#sudo apt-get install -yq mongodb-clients\n",
    "\n",
    "mongo --quiet \"${PYTHIA_MONGO_DB_URI}/${db_name}\" --eval 'var cursor = db.default.runs.find(); cursor.forEach(printjson)'"
   ]
  }
 ],
 "metadata": {
  "kernelspec": {
   "display_name": "Python 3.4 (Pythia, TF)",
   "language": "python",
   "name": "py3-pythia-tf"
  },
  "language_info": {
   "codemirror_mode": {
    "name": "ipython",
    "version": 3
   },
   "file_extension": ".py",
   "mimetype": "text/x-python",
   "name": "python",
   "nbconvert_exporter": "python",
   "pygments_lexer": "ipython3",
   "version": "3.4.4"
  }
 },
 "nbformat": 4,
 "nbformat_minor": 0
}
