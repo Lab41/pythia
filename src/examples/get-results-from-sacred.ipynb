{
 "cells": [
  {
   "cell_type": "code",
   "execution_count": null,
   "metadata": {
    "collapsed": false
   },
   "outputs": [],
   "source": [
    "import os\n",
    "import datetime\n",
    "import json\n",
    "import numpy as np\n",
    "import pandas as pd\n",
    "import pprint\n",
    "\n",
    "from IPython.display import display, HTML\n",
    "from pymongo import MongoClient"
   ]
  },
  {
   "cell_type": "code",
   "execution_count": null,
   "metadata": {
    "collapsed": true
   },
   "outputs": [],
   "source": [
    "# Connect to Mongo host & port\n",
    "\n",
    "client = MongoClient(os.environ['MONGODB_NAME'], 27017)"
   ]
  },
  {
   "cell_type": "code",
   "execution_count": null,
   "metadata": {
    "collapsed": false
   },
   "outputs": [],
   "source": [
    "# Input the name of the database you'd like to connect to. Example 'sacred_demo' or 'pythia_experiment'\n",
    "\n",
    "db_name = input()"
   ]
  },
  {
   "cell_type": "code",
   "execution_count": null,
   "metadata": {
    "collapsed": true
   },
   "outputs": [],
   "source": [
    "# Connect to db\n",
    "\n",
    "db = client.get_database(db_name)"
   ]
  },
  {
   "cell_type": "code",
   "execution_count": null,
   "metadata": {
    "collapsed": true
   },
   "outputs": [],
   "source": [
    "# This is the date of the experiments you'd like to see. Right now it is set at any experiment run after this date\n",
    "\n",
    "date = datetime.datetime(2016, 7, 28, 0, 0, 0, 0)"
   ]
  },
  {
   "cell_type": "code",
   "execution_count": null,
   "metadata": {
    "collapsed": false
   },
   "outputs": [],
   "source": [
    "# This mongo query displays the results and the arguments passed in to the model\n",
    "\n",
    "cursor = db.default.runs.find({'start_time': {\"$gt\" : date}}, {'config': True, 'result': True, '_id': False})\n",
    "count = 0\n",
    "for doc in cursor:\n",
    "        count += 1\n",
    "        print(\"\\n-----------------------------\")\n",
    "        print(\"RUN NUMBER: \" + str(count))\n",
    "        print(\"-----------------------------\")\n",
    "        for key in doc['config'].keys():\n",
    "            if key == 'args':\n",
    "                result = {}\n",
    "                # Print data used for the experiment\n",
    "                args = doc['config']['args']\n",
    "                print(\"\\nData: \" + str(args[0]) + \"\\n\")\n",
    "                # The way the config is set up, the first index is the data used and the remaining ones are the args\n",
    "                for d in args[1:len(args)]:\n",
    "                    result.update(d)\n",
    "                df = pd.DataFrame(result).fillna(\" \")\n",
    "                key_list = []\n",
    "                # I combine the dictionaries to make a nicer display for the pandas dataframe\n",
    "                for key in result.keys():\n",
    "                    for key2 in (result[key].keys()):\n",
    "                        key_list.append(key2)\n",
    "                args_df = df.reindex(key_list)\n",
    "                display(args_df)\n",
    "            else:\n",
    "                print(\"Running with a seed of: \" + str(doc['config']['seed']) + \"\\n\")\n",
    "        print(\"Results are:\")\n",
    "        display(pd.DataFrame(doc['result']))"
   ]
  },
  {
   "cell_type": "code",
   "execution_count": null,
   "metadata": {
    "collapsed": true
   },
   "outputs": [],
   "source": [
    "# The same concept as earlier: display experiments after the specified date below\n",
    "\n",
    "date_pythia = datetime.datetime(2016, 8, 16, 0, 0, 0, 0)"
   ]
  },
  {
   "cell_type": "code",
   "execution_count": null,
   "metadata": {
    "collapsed": false
   },
   "outputs": [],
   "source": [
    "# Enter the name of the db you would like to see\n",
    "\n",
    "db_name = input()"
   ]
  },
  {
   "cell_type": "code",
   "execution_count": null,
   "metadata": {
    "collapsed": true
   },
   "outputs": [],
   "source": [
    "# Connect to db\n",
    "\n",
    "db = client.get_database(db_name)"
   ]
  },
  {
   "cell_type": "code",
   "execution_count": null,
   "metadata": {
    "collapsed": true
   },
   "outputs": [],
   "source": [
    "# This is for the logic behind the visualization. If all elements within the lists are false, \n",
    "# then the algorithm was not used\n",
    "\n",
    "LDA_list = ['LDA_APPEND', 'LDA_COS', 'LDA_DIFFERENCE', 'LDA_PRODUCT', 'LDA_TOPICS']\n",
    "BOW_list = ['BOW_APPEND', 'BOW_PRODUCT', 'BOW_COS', 'BOW_DIFFERENCE', 'BOW_TFIDF']\n",
    "W2V_list = ['W2V_APPEND', 'W2V_DIFFERENCE', 'W2V_COS', 'W2V_PRODUCT']\n",
    "W2V_associated_list = ['W2V_SIZE', 'W2V_WINDOW', 'W2V_WORKERS', 'W2V_MIN_COUNT', 'W2V_PRETRAINED']\n",
    "CNN_list = ['CNN_APPEND', 'CNN_COS', 'CNN_PRODUCT', 'CNN_DIFFERENCE']\n",
    "ST_list = ['ST_APPEND', 'ST_COS', 'ST_PRODUCT', 'ST_DIFFERENCE']\n",
    "SVM_list = ['SVM']\n",
    "WORDONEHOT_list = ['WORDONEHOT']\n",
    "XGB_list = ['XGB']\n",
    "LOG_REG_list = ['LOG_REG']"
   ]
  },
  {
   "cell_type": "code",
   "execution_count": null,
   "metadata": {
    "collapsed": false,
    "scrolled": true
   },
   "outputs": [],
   "source": [
    "cursor = db.default.runs.find({'start_time': {\"$gt\" : date_pythia}}, {'config': True, 'result': True, '_id': False})\n",
    "count = 0\n",
    "\n",
    "bool_listLDA = []\n",
    "bool_listCNN = []\n",
    "bool_listST = []\n",
    "bool_listW2V = []\n",
    "bool_listBOW = []\n",
    "\n",
    "bool_listSVM = []\n",
    "bool_listXGB = []\n",
    "bool_listLOG_REG = []\n",
    "bool_listWORDONEHOT = []\n",
    "\n",
    "for doc in cursor:\n",
    "    count += 1\n",
    "    print(\"-------------------------\")\n",
    "    print(\"RUN NUMBER: \" + str(count))\n",
    "    print(\"-------------------------\")\n",
    "    df = pd.DataFrame(doc['config'], index=['value']).T\n",
    "    \n",
    "    for item in CNN_list:\n",
    "        bool_listCNN.append(df.get_value(item, 'value'))\n",
    "    if not any(bool_listCNN) == True:\n",
    "            df = df.drop(CNN_list)\n",
    "            if 'CNN_CHAR_VOCAB' in df.index:\n",
    "                df = df.drop(['CNN_CHAR_VOCAB'])\n",
    "            if 'CNN_VOCAB_TYPE' in df.index:\n",
    "                df = df.drop(['CNN_VOCAB_TYPE'])\n",
    "    \n",
    "    for item in LDA_list:\n",
    "        bool_listLDA.append(df.get_value(item, 'value'))\n",
    "    if not any(bool_listLDA) == True:\n",
    "        df = df.drop(LDA_list)\n",
    "    \n",
    "    for item in ST_list:\n",
    "        bool_listST.append(df.get_value(item, 'value'))\n",
    "    if not any(bool_listST) == True:\n",
    "        df = df.drop(ST_list)\n",
    "    \n",
    "    for item in W2V_list:\n",
    "        bool_listW2V.append(df.get_value(item, 'value'))\n",
    "    if not any(bool_listW2V) == True:\n",
    "        df = df.drop(W2V_list)\n",
    "        for item in W2V_associated_list:\n",
    "            if item in df.index:\n",
    "                df = df.drop([item])\n",
    "                \n",
    "    for item in BOW_list:\n",
    "        bool_listBOW.append(df.get_value(item, 'value'))\n",
    "    if not any(bool_listBOW) == True:\n",
    "        df = df.drop(BOW_list)        \n",
    "        \n",
    "    for item in SVM_list:\n",
    "        bool_listSVM.append(df.get_value(item, 'value'))\n",
    "    if not any(bool_listSVM) == True:\n",
    "        df = df.drop(['SVM', 'SVM_C', 'SVM_GAMMA', 'SVM_KERNEL'])\n",
    "        \n",
    "    for item in XGB_list:\n",
    "        bool_listXGB.append(df.get_value(item, 'value'))\n",
    "    if not any(bool_listXGB) == True:\n",
    "        df = df.drop(['XGB', 'XGB_COLSAMPLEBYTREE', 'XGB_LEARNRATE', 'XGB_MAXDEPTH', 'XGB_MINCHILDWEIGHT'])\n",
    "    \n",
    "    for item in LOG_REG_list:\n",
    "        bool_listLOG_REG.append(df.get_value(item, 'value'))\n",
    "    if not any(bool_listLOG_REG) == True:\n",
    "        df = df.drop(['LOG_REG', 'LOG_PENALTY', 'LOG_C', 'LOG_TOL'])\n",
    "        \n",
    "    for item in WORDONEHOT_list:\n",
    "        bool_listWORDONEHOT.append(df.get_value(item, 'value'))\n",
    "    if not any(bool_listWORDONEHOT) == True:\n",
    "        df = df.drop(['WORDONEHOT', 'WORDONEHOT_VOCAB'])\n",
    "        \n",
    "    display(df)\n",
    "    print(\"\\nRESULTS ARE:\\n\")\n",
    "    display(pd.DataFrame(doc['result']))"
   ]
  },
  {
   "cell_type": "code",
   "execution_count": null,
   "metadata": {
    "collapsed": false
   },
   "outputs": [],
   "source": [
    "cursor = db.default.runs.find({ \"experiment.name\": \"pythia_gridsearch\"})\n",
    "\n",
    "for doc in cursor:\n",
    "    print(doc)"
   ]
  },
  {
   "cell_type": "code",
   "execution_count": null,
   "metadata": {
    "collapsed": true
   },
   "outputs": [],
   "source": []
  }
 ],
 "metadata": {
  "kernelspec": {
   "display_name": "Python [conda env:py3-pythia]",
   "language": "python",
   "name": "conda-env-py3-pythia-py"
  },
  "language_info": {
   "codemirror_mode": {
    "name": "ipython",
    "version": 3
   },
   "file_extension": ".py",
   "mimetype": "text/x-python",
   "name": "python",
   "nbconvert_exporter": "python",
   "pygments_lexer": "ipython3",
   "version": "3.5.2"
  }
 },
 "nbformat": 4,
 "nbformat_minor": 0
}
