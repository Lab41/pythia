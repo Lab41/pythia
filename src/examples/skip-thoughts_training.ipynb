{
 "cells": [
  {
   "cell_type": "code",
   "execution_count": 1,
   "metadata": {
    "collapsed": false
   },
   "outputs": [],
   "source": [
    "import sys\n",
    "import theano\n",
    "import theano.tensor as tensor\n",
    "sys.path.append('/Users/chrisn/mad-science/pythia/src/featurizers/')\n",
    "from training import vocab, train, tools\n",
    "import skipthoughts"
   ]
  },
  {
   "cell_type": "code",
   "execution_count": 2,
   "metadata": {
    "collapsed": true
   },
   "outputs": [],
   "source": [
    "import nltk\n",
    "import numpy"
   ]
  },
  {
   "cell_type": "code",
   "execution_count": 3,
   "metadata": {
    "collapsed": true
   },
   "outputs": [],
   "source": [
    "import warnings\n",
    "warnings.filterwarnings('ignore')"
   ]
  },
  {
   "cell_type": "code",
   "execution_count": 4,
   "metadata": {
    "collapsed": false
   },
   "outputs": [],
   "source": [
    "theano.config.floatX = 'float32'"
   ]
  },
  {
   "cell_type": "code",
   "execution_count": 14,
   "metadata": {
    "collapsed": false
   },
   "outputs": [
    {
     "data": {
      "text/plain": [
       "'cpu'"
      ]
     },
     "execution_count": 14,
     "metadata": {},
     "output_type": "execute_result"
    }
   ],
   "source": [
    "theano.config.device"
   ]
  },
  {
   "cell_type": "code",
   "execution_count": 5,
   "metadata": {
    "collapsed": true
   },
   "outputs": [],
   "source": [
    "datafile = '/Users/chrisn/data/book_corpus/books_txt/Adventure/100290.txt'\n",
    "vocab_location = '/Users/chrisn/mad-science/pythia/data/book_corpus/model/vocab.pickle'\n",
    "model_location = '/Users/chrisn/mad-science/pythia/data/book_corpus/model/corpus.npz'"
   ]
  },
  {
   "cell_type": "code",
   "execution_count": 6,
   "metadata": {
    "collapsed": true
   },
   "outputs": [],
   "source": [
    "text = open(datafile).read()\n",
    "sentences = nltk.sent_tokenize(text)"
   ]
  },
  {
   "cell_type": "code",
   "execution_count": 7,
   "metadata": {
    "collapsed": false
   },
   "outputs": [],
   "source": [
    "# wordcount the count of words, ordered by appearance in text\n",
    "# worddict \n",
    "worddict, wordcount = vocab.build_dictionary(sentences)"
   ]
  },
  {
   "cell_type": "code",
   "execution_count": 8,
   "metadata": {
    "collapsed": false
   },
   "outputs": [],
   "source": [
    "vocab.save_dictionary(worddict, wordcount, vocab_location)"
   ]
  },
  {
   "cell_type": "code",
   "execution_count": 9,
   "metadata": {
    "collapsed": false
   },
   "outputs": [],
   "source": [
    "params = dict(\n",
    "    saveto = model_location,\n",
    "    dictionary = vocab_location,\n",
    "    n_words = 1000,\n",
    "    dim_word = 100,\n",
    "    dim = 500,\n",
    "    max_epochs = 3,\n",
    "    saveFreq = 100,\n",
    "    )"
   ]
  },
  {
   "cell_type": "code",
   "execution_count": 10,
   "metadata": {
    "collapsed": false
   },
   "outputs": [
    {
     "data": {
      "text/plain": [
       "5895"
      ]
     },
     "execution_count": 10,
     "metadata": {},
     "output_type": "execute_result"
    }
   ],
   "source": [
    "len(wordcount)"
   ]
  },
  {
   "cell_type": "code",
   "execution_count": 11,
   "metadata": {
    "collapsed": false
   },
   "outputs": [
    {
     "name": "stdout",
     "output_type": "stream",
     "text": [
      "{'optimizer': 'adam', 'max_epochs': 3, 'encoder': 'gru', 'batch_size': 64, 'dispFreq': 1, 'n_words': 1000, 'maxlen_w': 30, 'reload_': False, 'saveto': '/Users/chrisn/mad-science/pythia/data/book_corpus/model/corpus.npz', 'saveFreq': 100, 'decay_c': 0.0, 'dim_word': 100, 'dim': 500, 'dictionary': '/Users/chrisn/mad-science/pythia/data/book_corpus/model/vocab.pickle', 'decoder': 'gru', 'grad_clip': 5.0}\n",
      "Loading dictionary...\n",
      "Building model\n",
      "Building f_log_probs...\n",
      "Done\n",
      "Building f_cost...\n",
      "Done\n",
      "Done\n",
      "Building f_grad...\n",
      "Building optimizers...\n",
      "Optimization\n",
      "Epoch 0\n",
      "Epoch 0 Update 1 Cost 10480.3828125 UD 0.6012279987335205\n",
      "Epoch 0 Update 2 Cost 11618.3525390625 UD 0.7415950298309326\n",
      "Epoch 0 Update 3 Cost 11355.3779296875 UD 0.5766208171844482\n",
      "Epoch 0 Update 4 Cost 5127.8447265625 UD 0.3215038776397705\n",
      "Epoch 0 Update 5 Cost 10567.8271484375 UD 0.5997271537780762\n",
      "Epoch 0 Update 6 Cost 2079.397705078125 UD 0.20097994804382324\n",
      "Epoch 0 Update 7 Cost 10594.6875 UD 0.686445951461792\n",
      "Epoch 0 Update 8 Cost 5497.0458984375 UD 0.32576799392700195\n",
      "Epoch 0 Update 9 Cost 9822.6982421875 UD 0.6090989112854004\n",
      "Epoch 0 Update 10 Cost 8699.3935546875 UD 0.6145861148834229\n",
      "Epoch 0 Update 11 Cost 9023.224609375 UD 0.6030840873718262\n",
      "Epoch 0 Update 12 Cost 9572.50390625 UD 0.7253530025482178\n",
      "Epoch 0 Update 13 Cost 9035.365234375 UD 0.6869289875030518\n",
      "Epoch 0 Update 14 Cost 8460.26171875 UD 0.7406198978424072\n",
      "Epoch 0 Update 15 Cost 2180.498779296875 UD 0.26178598403930664\n",
      "Epoch 0 Update 16 Cost 8727.505859375 UD 0.6844048500061035\n",
      "Epoch 0 Update 17 Cost 7465.20654296875 UD 0.6536438465118408\n",
      "Epoch 0 Update 18 Cost 8524.583984375 UD 0.7197299003601074\n",
      "Epoch 0 Update 19 Cost 5454.31005859375 UD 0.5474789142608643\n",
      "Epoch 0 Update 20 Cost 8768.416015625 UD 0.7069039344787598\n",
      "Epoch 0 Update 21 Cost 4105.68798828125 UD 0.41366100311279297\n",
      "Epoch 0 Update 22 Cost 7956.4501953125 UD 0.7460119724273682\n",
      "Epoch 0 Update 23 Cost 8483.23828125 UD 0.7590508460998535\n",
      "Epoch 0 Update 24 Cost 2742.3056640625 UD 0.3024258613586426\n",
      "Epoch 0 Update 25 Cost 2949.915283203125 UD 0.35214900970458984\n",
      "Epoch 0 Update 26 Cost 2244.5654296875 UD 0.23472309112548828\n",
      "Epoch 0 Update 27 Cost 4795.2587890625 UD 0.478010892868042\n",
      "Epoch 0 Update 28 Cost 8146.00830078125 UD 0.7464389801025391\n",
      "Minibatch with zero sample under length 30\n",
      "Epoch 0 Update 29 Cost 8745.365234375 UD 0.7483761310577393\n",
      "Epoch 0 Update 30 Cost 6682.978515625 UD 278.0482108592987\n",
      "Epoch 0 Update 31 Cost 1042.632568359375 UD 0.15780901908874512\n",
      "Epoch 0 Update 32 Cost 5756.98388671875 UD 0.48291611671447754\n",
      "Epoch 0 Update 33 Cost 6838.83203125 UD 0.7423009872436523\n",
      "Epoch 0 Update 34 Cost 8284.494140625 UD 0.6886599063873291\n",
      "Epoch 0 Update 35 Cost 819.694580078125 UD 0.11933612823486328\n",
      "Epoch 0 Update 36 Cost 7947.1083984375 UD 0.6769349575042725\n",
      "Epoch 0 Update 37 Cost 8014.1298828125 UD 0.6935479640960693\n",
      "Epoch 0 Update 38 Cost 7585.0537109375 UD 0.742805004119873\n",
      "Epoch 0 Update 39 Cost 7125.4833984375 UD 0.6908910274505615\n",
      "Epoch 0 Update 40 Cost 1880.80419921875 UD 0.22296905517578125\n",
      "Epoch 0 Update 41 Cost 7988.056640625 UD 0.6908149719238281\n",
      "Epoch 0 Update 42 Cost 7934.9375 UD 0.7140729427337646\n",
      "Epoch 0 Update 43 Cost 4859.4794921875 UD 0.4168081283569336\n",
      "Epoch 0 Update 44 Cost 7750.4462890625 UD 0.6694760322570801\n",
      "Epoch 0 Update 45 Cost 6059.3017578125 UD 0.4997999668121338\n",
      "Epoch 0 Update 46 Cost 343.4183349609375 UD 0.09092402458190918\n",
      "Epoch 0 Update 47 Cost 566.7752685546875 UD 0.11428308486938477\n",
      "Epoch 0 Update 48 Cost 7463.65966796875 UD 0.6672098636627197\n",
      "Epoch 0 Update 49 Cost 5393.5078125 UD 1.1378588676452637\n",
      "Epoch 0 Update 50 Cost 5414.27392578125 UD 2.1343419551849365\n",
      "Epoch 0 Update 51 Cost 2210.35205078125 UD 1.0745189189910889\n",
      "Epoch 0 Update 52 Cost 4702.98046875 UD 1.8577098846435547\n",
      "Epoch 0 Update 53 Cost 1057.0506591796875 UD 0.6558208465576172\n",
      "Epoch 0 Update 54 Cost 7310.353515625 UD 2.89176082611084\n",
      "Epoch 0 Update 55 Cost 2252.27294921875 UD 1.1445040702819824\n",
      "Epoch 0 Update 56 Cost 7428.84033203125 UD 3.015855073928833\n",
      "Epoch 0 Update 57 Cost 7477.1474609375 UD 2.9884209632873535\n",
      "Epoch 0 Update 58 Cost 7026.443359375 UD 2.673156976699829\n",
      "Epoch 0 Update 59 Cost 1178.312744140625 UD 0.6174328327178955\n",
      "Epoch 0 Update 60 Cost 527.6702880859375 UD 0.5424890518188477\n",
      "Epoch 0 Update 61 Cost 1524.7509765625 UD 0.7459330558776855\n",
      "Epoch 0 Update 62 Cost 2271.39794921875 UD 1.0155420303344727\n",
      "Seen 2876 samples\n",
      "Epoch 1\n",
      "Epoch 1 Update 63 Cost 7439.3916015625 UD 1871.106822013855\n",
      "Epoch 1 Update 64 Cost 7725.45703125 UD 0.6866741180419922\n",
      "Epoch 1 Update 65 Cost 7563.7529296875 UD 0.7834649085998535\n",
      "Epoch 1 Update 66 Cost 7219.8251953125 UD 0.7557439804077148\n",
      "Epoch 1 Update 67 Cost 7960.39990234375 UD 0.7529900074005127\n",
      "Epoch 1 Update 68 Cost 3859.30615234375 UD 0.42946314811706543\n",
      "Epoch 1 Update 69 Cost 3942.720703125 UD 0.3339049816131592\n",
      "Epoch 1 Update 70 Cost 8531.1328125 UD 0.6968560218811035\n",
      "Minibatch with zero sample under length 30\n",
      "Epoch 1 Update 71 Cost 7105.94140625 UD 0.6090829372406006\n",
      "Epoch 1 Update 72 Cost 1457.93212890625 UD 0.21435093879699707\n",
      "Epoch 1 Update 73 Cost 7789.7021484375 UD 0.7987909317016602\n",
      "Epoch 1 Update 74 Cost 7549.33251953125 UD 0.6181039810180664\n",
      "Epoch 1 Update 75 Cost 7124.9130859375 UD 0.7151598930358887\n",
      "Epoch 1 Update 76 Cost 7502.4111328125 UD 0.7455098628997803\n",
      "Epoch 1 Update 77 Cost 7420.064453125 UD 0.6819069385528564\n",
      "Epoch 1 Update 78 Cost 1974.014404296875 UD 0.23438501358032227\n",
      "Epoch 1 Update 79 Cost 4523.16796875 UD 1.3480019569396973\n",
      "Epoch 1 Update 80 Cost 6861.7333984375 UD 2.944180965423584\n",
      "Epoch 1 Update 81 Cost 7018.4638671875 UD 2.6505351066589355\n",
      "Epoch 1 Update 82 Cost 3460.61376953125 UD 1.4171299934387207\n",
      "Epoch 1 Update 83 Cost 6713.646484375 UD 2.5355141162872314\n",
      "Epoch 1 Update 84 Cost 1951.90234375 UD 1.063995122909546\n",
      "Epoch 1 Update 85 Cost 2560.32373046875 UD 1.2794630527496338\n",
      "Epoch 1 Update 86 Cost 7160.94921875 UD 2.833576202392578\n",
      "Epoch 1 Update 87 Cost 4918.966796875 UD 2.343593120574951\n",
      "Epoch 1 Update 88 Cost 6559.25830078125 UD 2.7652149200439453\n",
      "Epoch 1 Update 89 Cost 2729.03955078125 UD 1.4610309600830078\n",
      "Epoch 1 Update 90 Cost 6995.26953125 UD 1715.4072940349579\n",
      "Epoch 1 Update 91 Cost 7216.853515625 UD 0.7262029647827148\n",
      "Epoch 1 Update 92 Cost 7325.705078125 UD 0.9029741287231445\n",
      "Epoch 1 Update 93 Cost 5205.07421875 UD 0.5671899318695068\n",
      "Epoch 1 Update 94 Cost 1125.5584716796875 UD 0.19176006317138672\n",
      "Epoch 1 Update 95 Cost 2033.083740234375 UD 0.27301812171936035\n",
      "Epoch 1 Update 96 Cost 417.3327331542969 UD 0.13417601585388184\n",
      "Epoch 1 Update 97 Cost 7163.18359375 UD 0.7455618381500244\n",
      "Epoch 1 Update 98 Cost 773.271240234375 UD 0.13573598861694336\n",
      "Epoch 1 Update 99 Cost 4661.85693359375 UD 0.460921049118042\n",
      "Epoch 1 Update 100 Cost 7627.6396484375 UD 0.7610371112823486\n",
      "Saving...\n",
      "Done\n",
      "Epoch 1 Update 101 Cost 6960.515625 UD 0.6768589019775391\n",
      "Epoch 1 Update 102 Cost 728.5889892578125 UD 0.14746785163879395\n",
      "Epoch 1 Update 103 Cost 8103.08740234375 UD 0.7134830951690674\n",
      "Epoch 1 Update 104 Cost 7249.0869140625 UD 0.7354779243469238\n",
      "Epoch 1 Update 105 Cost 6745.755859375 UD 0.6784770488739014\n",
      "Epoch 1 Update 106 Cost 6365.85107421875 UD 0.6668620109558105\n",
      "Epoch 1 Update 107 Cost 6812.912109375 UD 0.6891119480133057\n",
      "Epoch 1 Update 108 Cost 6222.9775390625 UD 0.614983081817627\n",
      "Epoch 1 Update 109 Cost 5990.09765625 UD 0.6953890323638916\n",
      "Epoch 1 Update 110 Cost 6735.609375 UD 0.7762680053710938\n",
      "Epoch 1 Update 111 Cost 676.4906005859375 UD 0.15857505798339844\n",
      "Epoch 1 Update 112 Cost 5149.689453125 UD 0.6435821056365967\n",
      "Epoch 1 Update 113 Cost 2178.1435546875 UD 0.2539381980895996\n",
      "Epoch 1 Update 114 Cost 7979.2685546875 UD 0.7897310256958008\n",
      "Epoch 1 Update 115 Cost 6509.42578125 UD 0.7548470497131348\n",
      "Epoch 1 Update 116 Cost 6984.6376953125 UD 0.7916350364685059\n",
      "Epoch 1 Update 117 Cost 2168.3466796875 UD 0.22864484786987305\n",
      "Epoch 1 Update 118 Cost 5001.875 UD 0.47757816314697266\n",
      "Epoch 1 Update 119 Cost 6799.5302734375 UD 0.7366108894348145\n",
      "Epoch 1 Update 120 Cost 4817.37109375 UD 0.49083590507507324\n",
      "Epoch 1 Update 121 Cost 1751.4215087890625 UD 0.2108290195465088\n",
      "Epoch 1 Update 122 Cost 1893.765625 UD 0.24232721328735352\n",
      "Epoch 1 Update 123 Cost 453.26007080078125 UD 0.10802102088928223\n",
      "Epoch 1 Update 124 Cost 1330.960693359375 UD 0.18575501441955566\n",
      "Seen 2876 samples\n",
      "Epoch 2\n",
      "Epoch 2 Update 125 Cost 4681.658203125 UD 0.5739469528198242\n",
      "Epoch 2 Update 126 Cost 7344.2177734375 UD 0.8055360317230225\n",
      "Epoch 2 Update 127 Cost 3590.85546875 UD 0.4578440189361572\n",
      "Epoch 2 Update 128 Cost 1844.24072265625 UD 0.257220983505249\n",
      "Epoch 2 Update 129 Cost 7150.99365234375 UD 0.6676208972930908\n",
      "Epoch 2 Update 130 Cost 6475.47021484375 UD 0.6329381465911865\n",
      "Epoch 2 Update 131 Cost 1836.151611328125 UD 0.2704901695251465\n",
      "Epoch 2 Update 132 Cost 6678.138671875 UD 0.7068789005279541\n",
      "Epoch 2 Update 133 Cost 6495.384765625 UD 0.6790070533752441\n",
      "Epoch 2 Update 134 Cost 3608.0517578125 UD 0.358828067779541\n",
      "Epoch 2 Update 135 Cost 3247.39892578125 UD 0.3481118679046631\n",
      "Epoch 2 Update 136 Cost 6413.4375 UD 0.796314001083374\n",
      "Epoch 2 Update 137 Cost 7170.4853515625 UD 0.7021548748016357\n",
      "Epoch 2 Update 138 Cost 6328.392578125 UD 0.7381420135498047\n",
      "Epoch 2 Update 139 Cost 6813.65478515625 UD 0.7631638050079346\n",
      "Epoch 2 Update 140 Cost 7205.6298828125 UD 0.9426991939544678\n",
      "Epoch 2 Update 141 Cost 1354.7071533203125 UD 0.21920204162597656\n",
      "Epoch 2 Update 142 Cost 6406.6943359375 UD 0.6859028339385986\n",
      "Epoch 2 Update 143 Cost 6524.634765625 UD 0.8121631145477295\n",
      "Epoch 2 Update 144 Cost 6712.2490234375 UD 0.7252991199493408\n",
      "Epoch 2 Update 145 Cost 7068.970703125 UD 0.8509058952331543\n",
      "Epoch 2 Update 146 Cost 6903.2021484375 UD 0.8905351161956787\n",
      "Epoch 2 Update 147 Cost 2548.775390625 UD 0.41922807693481445\n",
      "Epoch 2 Update 148 Cost 2383.91796875 UD 0.3663179874420166\n",
      "Minibatch with zero sample under length 30\n",
      "Epoch 2 Update 149 Cost 6787.369140625 UD 0.8371350765228271\n",
      "Epoch 2 Update 150 Cost 4171.1806640625 UD 0.5044441223144531\n",
      "Epoch 2 Update 151 Cost 7343.71142578125 UD 0.7570281028747559\n",
      "Epoch 2 Update 152 Cost 7109.9384765625 UD 0.7773499488830566\n",
      "Epoch 2 Update 153 Cost 6603.0302734375 UD 0.6972379684448242\n",
      "Epoch 2 Update 154 Cost 454.3981628417969 UD 0.10443806648254395\n",
      "Epoch 2 Update 155 Cost 6830.564453125 UD 0.7305340766906738\n",
      "Epoch 2 Update 156 Cost 897.9968872070312 UD 0.14609479904174805\n",
      "Epoch 2 Update 157 Cost 6990.43310546875 UD 0.852985143661499\n",
      "Epoch 2 Update 158 Cost 5550.8544921875 UD 0.5880441665649414\n",
      "Epoch 2 Update 159 Cost 6506.6640625 UD 0.7566468715667725\n",
      "Epoch 2 Update 160 Cost 6770.705078125 UD 0.7678329944610596\n",
      "Epoch 2 Update 161 Cost 6775.0849609375 UD 0.7010409832000732\n",
      "Epoch 2 Update 162 Cost 6788.46875 UD 0.7406580448150635\n",
      "Epoch 2 Update 163 Cost 737.82275390625 UD 0.15357208251953125\n",
      "Epoch 2 Update 164 Cost 6519.951171875 UD 0.6748878955841064\n",
      "Epoch 2 Update 165 Cost 5669.6630859375 UD 0.6616218090057373\n",
      "Epoch 2 Update 166 Cost 7036.802734375 UD 0.754296064376831\n",
      "Epoch 2 Update 167 Cost 6943.234375 UD 0.6823499202728271\n",
      "Epoch 2 Update 168 Cost 649.2181396484375 UD 0.13173294067382812\n",
      "Epoch 2 Update 169 Cost 1650.7108154296875 UD 0.24122309684753418\n",
      "Epoch 2 Update 170 Cost 4367.1279296875 UD 0.448444128036499\n",
      "Epoch 2 Update 171 Cost 4291.0126953125 UD 0.4435160160064697\n",
      "Epoch 2 Update 172 Cost 6501.4541015625 UD 0.6483809947967529\n",
      "Epoch 2 Update 173 Cost 7086.064453125 UD 0.7100119590759277\n",
      "Epoch 2 Update 174 Cost 630.324462890625 UD 0.14032602310180664\n",
      "Epoch 2 Update 175 Cost 6739.20361328125 UD 0.6934130191802979\n",
      "Epoch 2 Update 176 Cost 5317.1201171875 UD 0.5684299468994141\n",
      "Epoch 2 Update 177 Cost 1813.62744140625 UD 0.2193889617919922\n",
      "Epoch 2 Update 178 Cost 6170.49169921875 UD 0.7126369476318359\n",
      "Epoch 2 Update 179 Cost 3939.9287109375 UD 0.41680002212524414\n",
      "Epoch 2 Update 180 Cost 6157.01171875 UD 0.6498799324035645\n",
      "Epoch 2 Update 181 Cost 2020.9097900390625 UD 0.24206280708312988\n",
      "Epoch 2 Update 182 Cost 4687.71875 UD 0.4992561340332031\n",
      "Epoch 2 Update 183 Cost 1356.3037109375 UD 0.19458889961242676\n",
      "Epoch 2 Update 184 Cost 1082.8526611328125 UD 0.14578890800476074\n",
      "Epoch 2 Update 185 Cost 304.8196105957031 UD 0.07722687721252441\n",
      "Epoch 2 Update 186 Cost 2352.40869140625 UD 0.2723269462585449\n",
      "Seen 2876 samples\n"
     ]
    }
   ],
   "source": [
    "train.trainer(sentences,**params)"
   ]
  },
  {
   "cell_type": "code",
   "execution_count": 12,
   "metadata": {
    "collapsed": false
   },
   "outputs": [
    {
     "name": "stdout",
     "output_type": "stream",
     "text": [
      "Loading dictionary...\n",
      "Creating inverted dictionary...\n",
      "Loading model options...\n",
      "Loading model parameters...\n",
      "Compiling encoder...\n",
      "Loading word2vec embeddings...\n",
      "Creating word lookup tables...\n",
      "Packing up...\n"
     ]
    }
   ],
   "source": [
    "model = tools.load_model()"
   ]
  },
  {
   "cell_type": "code",
   "execution_count": null,
   "metadata": {
    "collapsed": false
   },
   "outputs": [],
   "source": [
    "from imp import reload\n",
    "reload(tools)"
   ]
  },
  {
   "cell_type": "code",
   "execution_count": null,
   "metadata": {
    "collapsed": true
   },
   "outputs": [],
   "source": []
  }
 ],
 "metadata": {
  "kernelspec": {
   "display_name": "Python 3",
   "language": "python",
   "name": "python3"
  },
  "language_info": {
   "codemirror_mode": {
    "name": "ipython",
    "version": 3
   },
   "file_extension": ".py",
   "mimetype": "text/x-python",
   "name": "python",
   "nbconvert_exporter": "python",
   "pygments_lexer": "ipython3",
   "version": "3.5.2"
  }
 },
 "nbformat": 4,
 "nbformat_minor": 0
}
