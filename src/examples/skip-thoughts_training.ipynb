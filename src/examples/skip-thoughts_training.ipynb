{
 "cells": [
  {
   "cell_type": "code",
   "execution_count": 1,
   "metadata": {
    "collapsed": false
   },
   "outputs": [],
   "source": [
    "import sys\n",
    "import theano\n",
    "import theano.tensor as tensor\n",
    "sys.path.append('/Users/chrisn/mad-science/pythia/src/featurizers/')\n",
    "from training import vocab\n",
    "import skipthoughts\n",
    "from training import train"
   ]
  },
  {
   "cell_type": "code",
   "execution_count": 3,
   "metadata": {
    "collapsed": true
   },
   "outputs": [],
   "source": [
    "import nltk"
   ]
  },
  {
   "cell_type": "code",
   "execution_count": 4,
   "metadata": {
    "collapsed": false
   },
   "outputs": [],
   "source": [
    "theano.config.floatX = 'float32'"
   ]
  },
  {
   "cell_type": "code",
   "execution_count": 5,
   "metadata": {
    "collapsed": true
   },
   "outputs": [],
   "source": [
    "datafile = '/Users/chrisn/data/book_corpus/books_txt/Adventure/100290.txt'\n",
    "vocab_location = '/Users/chrisn/mad-science/pythia/data/book_corpus/model/vocab.pickle'\n",
    "model_location = '/Users/chrisn/mad-science/pythia/data/book_corpus/model/corpus.npz'"
   ]
  },
  {
   "cell_type": "code",
   "execution_count": 6,
   "metadata": {
    "collapsed": true
   },
   "outputs": [],
   "source": [
    "text = open(datafile).read()\n",
    "sentences = nltk.sent_tokenize(text)"
   ]
  },
  {
   "cell_type": "code",
   "execution_count": 7,
   "metadata": {
    "collapsed": false
   },
   "outputs": [],
   "source": [
    "# wordcount the count of words, ordered by appearance in text\n",
    "# worddict \n",
    "worddict, wordcount = vocab.build_dictionary(sentences)"
   ]
  },
  {
   "cell_type": "code",
   "execution_count": 8,
   "metadata": {
    "collapsed": false
   },
   "outputs": [],
   "source": [
    "vocab.save_dictionary(worddict, wordcount, vocab_location)"
   ]
  },
  {
   "cell_type": "code",
   "execution_count": 11,
   "metadata": {
    "collapsed": false
   },
   "outputs": [],
   "source": [
    "params = dict(\n",
    "    saveto = model_location,\n",
    "    dictionary = vocab_location,\n",
    "    n_words = 1000,\n",
    "    dim_word = 100,\n",
    "    dim = 500,\n",
    "    max_epochs = 2\n",
    "    )"
   ]
  },
  {
   "cell_type": "code",
   "execution_count": 10,
   "metadata": {
    "collapsed": false
   },
   "outputs": [
    {
     "data": {
      "text/plain": [
       "5895"
      ]
     },
     "execution_count": 10,
     "metadata": {},
     "output_type": "execute_result"
    }
   ],
   "source": [
    "len(wordcount)"
   ]
  },
  {
   "cell_type": "code",
   "execution_count": 12,
   "metadata": {
    "collapsed": false
   },
   "outputs": [
    {
     "name": "stdout",
     "output_type": "stream",
     "text": [
      "{'dispFreq': 1, 'encoder': 'gru', 'max_epochs': 2, 'decay_c': 0.0, 'saveto': '/Users/chrisn/mad-science/pythia/data/book_corpus/model/corpus.npz', 'dim_word': 100, 'maxlen_w': 30, 'optimizer': 'adam', 'saveFreq': 1000, 'dictionary': '/Users/chrisn/mad-science/pythia/data/book_corpus/model/vocab.pickle', 'grad_clip': 5.0, 'batch_size': 64, 'n_words': 1000, 'decoder': 'gru', 'dim': 500, 'reload_': False}\n",
      "Loading dictionary...\n",
      "Building model\n",
      "Building f_log_probs...\n",
      "Done\n",
      "Building f_cost...\n",
      "Done\n",
      "Done\n",
      "Building f_grad...\n",
      "Building optimizers...\n",
      "Optimization\n",
      "Epoch 0\n"
     ]
    },
    {
     "name": "stderr",
     "output_type": "stream",
     "text": [
      "/Users/chrisn/mad-science/pythia/src/featurizers/training/train.py:157: FutureWarning: comparison to `None` will result in an elementwise object comparison in the future.\n",
      "  if x == None:\n"
     ]
    },
    {
     "name": "stdout",
     "output_type": "stream",
     "text": [
      "Epoch 0 Update 1 Cost 4151.66796875 UD 0.36929893493652344\n",
      "Epoch 0 Update 2 Cost 11114.412109375 UD 0.689119815826416\n",
      "Epoch 0 Update 3 Cost 11248.373046875 UD 0.725898027420044\n",
      "Epoch 0 Update 4 Cost 5694.97314453125 UD 0.40715599060058594\n",
      "Epoch 0 Update 5 Cost 5747.0068359375 UD 0.3246879577636719\n",
      "Epoch 0 Update 6 Cost 11310.849609375 UD 0.6759939193725586\n",
      "Minibatch with zero sample under length 30\n",
      "Epoch 0 Update 7 Cost 2622.1455078125 UD 0.2660679817199707\n",
      "Epoch 0 Update 8 Cost 10453.7578125 UD 0.745048999786377\n",
      "Epoch 0 Update 9 Cost 12228.712890625 UD 0.7455000877380371\n",
      "Epoch 0 Update 10 Cost 9910.4765625 UD 0.7664079666137695\n",
      "Epoch 0 Update 11 Cost 8731.9248046875 UD 0.7465219497680664\n",
      "Epoch 0 Update 12 Cost 8447.4609375 UD 0.7008099555969238\n",
      "Epoch 0 Update 13 Cost 8781.474609375 UD 0.7628920078277588\n",
      "Epoch 0 Update 14 Cost 8086.55078125 UD 0.622838020324707\n",
      "Epoch 0 Update 15 Cost 8741.82421875 UD 0.7105808258056641\n",
      "Epoch 0 Update 16 Cost 3016.34521484375 UD 0.3145599365234375\n",
      "Epoch 0 Update 17 Cost 7707.654296875 UD 0.5964710712432861\n",
      "Epoch 0 Update 18 Cost 8514.283203125 UD 0.7218661308288574\n",
      "Epoch 0 Update 19 Cost 3868.08740234375 UD 0.33927106857299805\n",
      "Epoch 0 Update 20 Cost 8190.79150390625 UD 0.604557991027832\n",
      "Epoch 0 Update 21 Cost 1551.545166015625 UD 0.20481300354003906\n",
      "Epoch 0 Update 22 Cost 7701.3310546875 UD 0.6991961002349854\n",
      "Epoch 0 Update 23 Cost 7480.7763671875 UD 0.6383881568908691\n",
      "Epoch 0 Update 24 Cost 5312.0283203125 UD 0.5565230846405029\n",
      "Epoch 0 Update 25 Cost 7872.84130859375 UD 0.6645259857177734\n",
      "Epoch 0 Update 26 Cost 2103.89501953125 UD 0.23694300651550293\n",
      "Epoch 0 Update 27 Cost 8116.896484375 UD 0.7126650810241699\n",
      "Epoch 0 Update 28 Cost 4800.2919921875 UD 0.4873800277709961\n",
      "Epoch 0 Update 29 Cost 7648.29833984375 UD 0.6302239894866943\n",
      "Epoch 0 Update 30 Cost 5339.57958984375 UD 0.4683349132537842\n",
      "Epoch 0 Update 31 Cost 665.9017333984375 UD 0.13104891777038574\n",
      "Epoch 0 Update 32 Cost 8245.7041015625 UD 0.7105679512023926\n",
      "Epoch 0 Update 33 Cost 6497.57421875 UD 0.593034029006958\n",
      "Epoch 0 Update 34 Cost 516.62109375 UD 0.10832786560058594\n",
      "Epoch 0 Update 35 Cost 1707.09228515625 UD 0.20556998252868652\n",
      "Epoch 0 Update 36 Cost 7844.490234375 UD 0.7461738586425781\n",
      "Epoch 0 Update 37 Cost 7517.4296875 UD 0.7305309772491455\n",
      "Epoch 0 Update 38 Cost 1101.76708984375 UD 0.17757391929626465\n",
      "Epoch 0 Update 39 Cost 7805.90234375 UD 0.6864511966705322\n",
      "Epoch 0 Update 40 Cost 7729.279296875 UD 0.6927008628845215\n",
      "Epoch 0 Update 41 Cost 7034.9326171875 UD 0.6749169826507568\n",
      "Epoch 0 Update 42 Cost 7958.92138671875 UD 0.6811909675598145\n",
      "Epoch 0 Update 43 Cost 5602.6162109375 UD 0.46755504608154297\n",
      "Epoch 0 Update 44 Cost 7346.7841796875 UD 0.6805729866027832\n",
      "Epoch 0 Update 45 Cost 6473.9765625 UD 0.5672688484191895\n",
      "Epoch 0 Update 46 Cost 7138.4794921875 UD 0.6794178485870361\n",
      "Epoch 0 Update 47 Cost 8203.5810546875 UD 0.6887190341949463\n",
      "Epoch 0 Update 48 Cost 653.607177734375 UD 0.11617088317871094\n",
      "Epoch 0 Update 49 Cost 5609.18017578125 UD 0.6819050312042236\n",
      "Epoch 0 Update 50 Cost 891.146240234375 UD 0.1344289779663086\n",
      "Epoch 0 Update 51 Cost 7563.73583984375 UD 0.7503938674926758\n",
      "Epoch 0 Update 52 Cost 1953.73486328125 UD 0.21110892295837402\n",
      "Epoch 0 Update 53 Cost 2441.263671875 UD 0.2504279613494873\n",
      "Epoch 0 Update 54 Cost 4980.630859375 UD 0.4371929168701172\n",
      "Epoch 0 Update 55 Cost 7385.90380859375 UD 0.6759839057922363\n",
      "Epoch 0 Update 56 Cost 7726.11328125 UD 0.8472020626068115\n",
      "Epoch 0 Update 57 Cost 5329.294921875 UD 0.5054020881652832\n",
      "Epoch 0 Update 58 Cost 7512.3779296875 UD 0.6745669841766357\n",
      "Epoch 0 Update 59 Cost 1383.111572265625 UD 0.1672968864440918\n",
      "Epoch 0 Update 60 Cost 2054.703125 UD 0.24726104736328125\n",
      "Epoch 0 Update 61 Cost 402.3134765625 UD 0.07993292808532715\n",
      "Epoch 0 Update 62 Cost 1621.497802734375 UD 0.198167085647583\n",
      "Seen 2876 samples\n",
      "Epoch 1\n",
      "Epoch 1 Update 63 Cost 7588.19189453125 UD 0.6737608909606934\n",
      "Epoch 1 Update 64 Cost 7401.259765625 UD 0.7150111198425293\n",
      "Epoch 1 Update 65 Cost 7444.6865234375 UD 0.7829289436340332\n",
      "Epoch 1 Update 66 Cost 3860.85498046875 UD 0.47310495376586914\n",
      "Epoch 1 Update 67 Cost 7301.3251953125 UD 0.8317549228668213\n",
      "Epoch 1 Update 68 Cost 1458.047607421875 UD 0.20536208152770996\n",
      "Epoch 1 Update 69 Cost 7021.52294921875 UD 0.6403779983520508\n",
      "Epoch 1 Update 70 Cost 7361.814453125 UD 0.7555580139160156\n",
      "Epoch 1 Update 71 Cost 8196.0673828125 UD 0.733241081237793\n",
      "Epoch 1 Update 72 Cost 7055.09033203125 UD 0.7096278667449951\n",
      "Epoch 1 Update 73 Cost 4548.1318359375 UD 0.5544519424438477\n",
      "Epoch 1 Update 74 Cost 3495.66845703125 UD 0.37052011489868164\n",
      "Epoch 1 Update 75 Cost 1942.513671875 UD 0.2781219482421875\n",
      "Minibatch with zero sample under length 30\n",
      "Epoch 1 Update 76 Cost 7171.88232421875 UD 0.7636420726776123\n",
      "Epoch 1 Update 77 Cost 3867.408935546875 UD 0.34255194664001465\n",
      "Epoch 1 Update 78 Cost 7547.8154296875 UD 0.7497470378875732\n",
      "Epoch 1 Update 79 Cost 2601.50390625 UD 0.31422996520996094\n",
      "Epoch 1 Update 80 Cost 7275.404296875 UD 0.6944458484649658\n",
      "Epoch 1 Update 81 Cost 4939.0234375 UD 0.559359073638916\n",
      "Epoch 1 Update 82 Cost 7749.1572265625 UD 0.7522311210632324\n",
      "Epoch 1 Update 83 Cost 1971.069580078125 UD 0.2665858268737793\n",
      "Epoch 1 Update 84 Cost 6393.4697265625 UD 0.6310930252075195\n",
      "Epoch 1 Update 85 Cost 6945.7041015625 UD 0.7269411087036133\n",
      "Epoch 1 Update 86 Cost 6790.07861328125 UD 0.6902561187744141\n",
      "Epoch 1 Update 87 Cost 7513.6142578125 UD 0.6596519947052002\n",
      "Epoch 1 Update 88 Cost 2745.28564453125 UD 0.36201000213623047\n",
      "Epoch 1 Update 89 Cost 7168.12744140625 UD 0.6605801582336426\n",
      "Epoch 1 Update 90 Cost 7695.34423828125 UD 0.768139123916626\n",
      "Epoch 1 Update 91 Cost 7446.7890625 UD 0.7509620189666748\n",
      "Epoch 1 Update 92 Cost 7839.50048828125 UD 0.7002208232879639\n",
      "Epoch 1 Update 93 Cost 7149.98388671875 UD 0.7208049297332764\n",
      "Epoch 1 Update 94 Cost 7655.5283203125 UD 0.7000119686126709\n",
      "Epoch 1 Update 95 Cost 7358.6494140625 UD 0.7479088306427002\n",
      "Epoch 1 Update 96 Cost 7276.078125 UD 0.6969878673553467\n",
      "Epoch 1 Update 97 Cost 1919.3359375 UD 0.23046302795410156\n",
      "Epoch 1 Update 98 Cost 7279.9140625 UD 0.718012809753418\n",
      "Epoch 1 Update 99 Cost 765.9550170898438 UD 0.11543416976928711\n",
      "Epoch 1 Update 100 Cost 6040.7900390625 UD 0.6289839744567871\n",
      "Epoch 1 Update 101 Cost 689.5572509765625 UD 0.1312110424041748\n",
      "Epoch 1 Update 102 Cost 7658.45458984375 UD 0.7173960208892822\n",
      "Epoch 1 Update 103 Cost 564.4497680664062 UD 0.11318802833557129\n",
      "Epoch 1 Update 104 Cost 6469.4375 UD 0.5337090492248535\n",
      "Epoch 1 Update 105 Cost 6639.919921875 UD 0.6566789150238037\n",
      "Epoch 1 Update 106 Cost 6543.16796875 UD 0.6445410251617432\n",
      "Epoch 1 Update 107 Cost 5139.90283203125 UD 0.45665884017944336\n",
      "Epoch 1 Update 108 Cost 6815.0908203125 UD 0.6500380039215088\n",
      "Epoch 1 Update 109 Cost 799.3134765625 UD 0.15184497833251953\n",
      "Epoch 1 Update 110 Cost 4824.830078125 UD 0.4490201473236084\n",
      "Epoch 1 Update 111 Cost 6562.4697265625 UD 0.7198009490966797\n",
      "Epoch 1 Update 112 Cost 6774.3154296875 UD 0.7394568920135498\n",
      "Epoch 1 Update 113 Cost 2396.3232421875 UD 0.269212007522583\n",
      "Epoch 1 Update 114 Cost 737.9228515625 UD 0.14286494255065918\n",
      "Epoch 1 Update 115 Cost 6672.533203125 UD 0.7546360492706299\n",
      "Epoch 1 Update 116 Cost 6762.5966796875 UD 0.740454912185669\n",
      "Epoch 1 Update 117 Cost 5782.35595703125 UD 0.533473014831543\n",
      "Epoch 1 Update 118 Cost 5287.73974609375 UD 0.5267648696899414\n",
      "Epoch 1 Update 119 Cost 4767.76171875 UD 0.45301103591918945\n",
      "Epoch 1 Update 120 Cost 1920.7969970703125 UD 0.20931100845336914\n",
      "Epoch 1 Update 121 Cost 2269.97314453125 UD 0.2631518840789795\n",
      "Epoch 1 Update 122 Cost 453.70965576171875 UD 0.12346291542053223\n",
      "Epoch 1 Update 123 Cost 1364.7537841796875 UD 0.1822350025177002\n",
      "Epoch 1 Update 124 Cost 1637.889892578125 UD 0.2020728588104248\n",
      "Seen 2876 samples\n"
     ]
    }
   ],
   "source": [
    "train.trainer(sentences,**params)"
   ]
  },
  {
   "cell_type": "code",
   "execution_count": null,
   "metadata": {
    "collapsed": true
   },
   "outputs": [],
   "source": []
  }
 ],
 "metadata": {
  "kernelspec": {
   "display_name": "Python 3",
   "language": "python",
   "name": "python3"
  },
  "language_info": {
   "codemirror_mode": {
    "name": "ipython",
    "version": 3
   },
   "file_extension": ".py",
   "mimetype": "text/x-python",
   "name": "python",
   "nbconvert_exporter": "python",
   "pygments_lexer": "ipython3",
   "version": "3.5.2"
  }
 },
 "nbformat": 4,
 "nbformat_minor": 0
}
