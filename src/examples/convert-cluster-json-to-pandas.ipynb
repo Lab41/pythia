{
 "cells": [
  {
   "cell_type": "markdown",
   "metadata": {},
   "source": [
    "# Querying \"cluster JSON\" with Pandas"
   ]
  },
  {
   "cell_type": "code",
   "execution_count": 1,
   "metadata": {
    "collapsed": false
   },
   "outputs": [],
   "source": [
    "import codecs\n",
    "import json\n",
    "import pprint\n",
    "\n",
    "import pandas as pd"
   ]
  },
  {
   "cell_type": "markdown",
   "metadata": {},
   "source": [
    "We will:\n",
    "\n",
    "* Open a single json file for a cluster and look at it.\n",
    "* Bring in the data as a dictionary and then it is quite easy to read in as a Pandas to play around with"
   ]
  },
  {
   "cell_type": "code",
   "execution_count": 2,
   "metadata": {
    "collapsed": false
   },
   "outputs": [],
   "source": [
    "data = []\n",
    "with codecs.open('../../data/SKNews.json', encoding='utf-8') as f:\n",
    "    for line in f:\n",
    "        entry = json.loads(line)\n",
    "        data.append(entry)"
   ]
  },
  {
   "cell_type": "code",
   "execution_count": 3,
   "metadata": {
    "collapsed": false,
    "scrolled": false
   },
   "outputs": [
    {
     "name": "stdout",
     "output_type": "stream",
     "text": [
      "[{u'body_text': u\"KT apologizes after 8.7M subscribers' data hacked Published: July 29, 2012 9:23 a.m. ET SEOUL--South Korea's KT Corp. (KT, 030200.SE) apologized Sunday after acknowledging that the personal data for 8.7 million of the company's subscribers had been hacked and said it will devote efforts to prevent any recurrences. Earlier in the day, media reports said the police have arrested hackers who are suspected of having stolen personal data of the customers of the nation's second-largest mobile operator. KT had requested a police investigation on July 13 after detecting signs of possible hacking through internal monitoring, the company said in a statement. The company has has since retrieved all the personal data that had been allegedly collected by the hackers, it added.\",\n",
      "  u'cluster_id': 198,\n",
      "  u'corpus': u'SKNews',\n",
      "  u'novelty': False,\n",
      "  u'order': 1,\n",
      "  u'post_id': u'1981'},\n",
      " {u'body_text': u'South Korean crackers arrested Yet another data leak at KT 29 Jul 2012 at 23:30, Richard Chirgwin South Korean police say they have arrested two malicious hackers that obtained personal details of 8.7 million KT mobile customers and on-selling the data to telemarketing firms. The police accuse the pair of earning one billion won, which sounds a lot more than the roughly $US800,000 it converts to, in the scam. The data theft took place between February this year and early this month, when KT detected signs of intrusion on their networks. Seven individuals have been charged over buying the data, according to AFP. In the kind of apology you never get from Western companies suffering data breaches (or, for that matter, repeatedly and egregiously breaching their customers\\u2019 privacy \\u2013 we know who we\\u2019re talking about), KT issued a statement to customers saying that \\u201cWe deeply bow our head in apology\\u201d for the leaks. This may, however, reflect KT\\u2019s humiliation at being still vulnerable to data leaks, following last year\\u2019s attack in which KT\\u2019s Cyworld social network site and Nate Web portal were infiltrated and personal data of 35 million customers copied. That attack was blamed on Chinese intruders. Other major attacks on South Korean sites included a breach at game developer Nexon (13 million customers exposed), and retailer Shinsegae along with 24 other companies (20 million customers exposed).',\n",
      "  u'cluster_id': 198,\n",
      "  u'corpus': u'SKNews',\n",
      "  u'novelty': True,\n",
      "  u'order': 0,\n",
      "  u'post_id': u'1980'}]\n",
      "South Korean crackers arrested Yet another data leak at KT 29 Jul 2012 at 23:30, Richard Chirgwin South Korean police say they have arrested two malicious hackers that obtained personal details of 8.7 million KT mobile customers and on-selling the data to telemarketing firms. The police accuse the pair of earning one billion won, which sounds a lot more than the roughly $US800,000 it converts to, in the scam. The data theft took place between February this year and early this month, when KT detected signs of intrusion on their networks. Seven individuals have been charged over buying the data, according to AFP. In the kind of apology you never get from Western companies suffering data breaches (or, for that matter, repeatedly and egregiously breaching their customers’ privacy – we know who we’re talking about), KT issued a statement to customers saying that “We deeply bow our head in apology” for the leaks. This may, however, reflect KT’s humiliation at being still vulnerable to data leaks, following last year’s attack in which KT’s Cyworld social network site and Nate Web portal were infiltrated and personal data of 35 million customers copied. That attack was blamed on Chinese intruders. Other major attacks on South Korean sites included a breach at game developer Nexon (13 million customers exposed), and retailer Shinsegae along with 24 other companies (20 million customers exposed).\n"
     ]
    }
   ],
   "source": [
    "pprint.pprint(data[:2])\n",
    "print(data[1]['body_text'])"
   ]
  },
  {
   "cell_type": "code",
   "execution_count": 4,
   "metadata": {
    "collapsed": true
   },
   "outputs": [],
   "source": [
    "pd_data = pd.DataFrame(data)"
   ]
  },
  {
   "cell_type": "code",
   "execution_count": 5,
   "metadata": {
    "collapsed": false
   },
   "outputs": [
    {
     "data": {
      "text/html": [
       "<div>\n",
       "<table border=\"1\" class=\"dataframe\">\n",
       "  <thead>\n",
       "    <tr style=\"text-align: right;\">\n",
       "      <th></th>\n",
       "      <th>body_text</th>\n",
       "      <th>cluster_id</th>\n",
       "      <th>corpus</th>\n",
       "      <th>novelty</th>\n",
       "      <th>order</th>\n",
       "      <th>post_id</th>\n",
       "    </tr>\n",
       "  </thead>\n",
       "  <tbody>\n",
       "    <tr>\n",
       "      <th>0</th>\n",
       "      <td>KT apologizes after 8.7M subscribers' data hac...</td>\n",
       "      <td>198</td>\n",
       "      <td>SKNews</td>\n",
       "      <td>False</td>\n",
       "      <td>1</td>\n",
       "      <td>1981</td>\n",
       "    </tr>\n",
       "    <tr>\n",
       "      <th>1</th>\n",
       "      <td>South Korean crackers arrested Yet another dat...</td>\n",
       "      <td>198</td>\n",
       "      <td>SKNews</td>\n",
       "      <td>True</td>\n",
       "      <td>0</td>\n",
       "      <td>1980</td>\n",
       "    </tr>\n",
       "    <tr>\n",
       "      <th>2</th>\n",
       "      <td>Two arrested for hacking personal data of 8.7 ...</td>\n",
       "      <td>198</td>\n",
       "      <td>SKNews</td>\n",
       "      <td>True</td>\n",
       "      <td>2</td>\n",
       "      <td>1982</td>\n",
       "    </tr>\n",
       "    <tr>\n",
       "      <th>3</th>\n",
       "      <td>Hackers steal, sell data on 8.7 million Korea ...</td>\n",
       "      <td>198</td>\n",
       "      <td>SKNews</td>\n",
       "      <td>False</td>\n",
       "      <td>3</td>\n",
       "      <td>1983</td>\n",
       "    </tr>\n",
       "    <tr>\n",
       "      <th>4</th>\n",
       "      <td>Data of 8.7 Million KT Subscribers Hacked in S...</td>\n",
       "      <td>198</td>\n",
       "      <td>SKNews</td>\n",
       "      <td>False</td>\n",
       "      <td>4</td>\n",
       "      <td>1984</td>\n",
       "    </tr>\n",
       "    <tr>\n",
       "      <th>5</th>\n",
       "      <td>South Korea arrests phone firm KT Corp hacking...</td>\n",
       "      <td>198</td>\n",
       "      <td>SKNews</td>\n",
       "      <td>False</td>\n",
       "      <td>5</td>\n",
       "      <td>1985</td>\n",
       "    </tr>\n",
       "  </tbody>\n",
       "</table>\n",
       "</div>"
      ],
      "text/plain": [
       "                                           body_text  cluster_id  corpus  \\\n",
       "0  KT apologizes after 8.7M subscribers' data hac...         198  SKNews   \n",
       "1  South Korean crackers arrested Yet another dat...         198  SKNews   \n",
       "2  Two arrested for hacking personal data of 8.7 ...         198  SKNews   \n",
       "3  Hackers steal, sell data on 8.7 million Korea ...         198  SKNews   \n",
       "4  Data of 8.7 Million KT Subscribers Hacked in S...         198  SKNews   \n",
       "5  South Korea arrests phone firm KT Corp hacking...         198  SKNews   \n",
       "\n",
       "  novelty  order post_id  \n",
       "0   False      1    1981  \n",
       "1    True      0    1980  \n",
       "2    True      2    1982  \n",
       "3   False      3    1983  \n",
       "4   False      4    1984  \n",
       "5   False      5    1985  "
      ]
     },
     "execution_count": 5,
     "metadata": {},
     "output_type": "execute_result"
    }
   ],
   "source": [
    "print(pd_data)"
   ]
  },
  {
   "cell_type": "markdown",
   "metadata": {},
   "source": [
    "You can use Pandas functionality like indexing and sorting:"
   ]
  },
  {
   "cell_type": "code",
   "execution_count": 6,
   "metadata": {
    "collapsed": false
   },
   "outputs": [
    {
     "name": "stdout",
     "output_type": "stream",
     "text": [
      "South Korean crackers arrested Yet another data leak at KT 29 Jul 2012 at 23:30, Richard Chirgwin South Korean police say they have arrested two malicious hackers that obtained personal details of 8.7 million KT mobile customers and on-selling the data to telemarketing firms. The police accuse the pair of earning one billion won, which sounds a lot more than the roughly $US800,000 it converts to, in the scam. The data theft took place between February this year and early this month, when KT detected signs of intrusion on their networks. Seven individuals have been charged over buying the data, according to AFP. In the kind of apology you never get from Western companies suffering data breaches (or, for that matter, repeatedly and egregiously breaching their customers’ privacy – we know who we’re talking about), KT issued a statement to customers saying that “We deeply bow our head in apology” for the leaks. This may, however, reflect KT’s humiliation at being still vulnerable to data leaks, following last year’s attack in which KT’s Cyworld social network site and Nate Web portal were infiltrated and personal data of 35 million customers copied. That attack was blamed on Chinese intruders. Other major attacks on South Korean sites included a breach at game developer Nexon (13 million customers exposed), and retailer Shinsegae along with 24 other companies (20 million customers exposed).\n"
     ]
    }
   ],
   "source": [
    "pd_data=pd_data.set_index('order')\n",
    "print(pd_data.ix[0].body_text)"
   ]
  },
  {
   "cell_type": "markdown",
   "metadata": {
    "collapsed": true
   },
   "source": [
    "## Loading all the json files from a folder\n",
    "\n",
    "We can also send a directory to the algorithm and have it load all the files therein into a single dataframe:"
   ]
  },
  {
   "cell_type": "code",
   "execution_count": 7,
   "metadata": {
    "collapsed": false
   },
   "outputs": [],
   "source": [
    "import os\n",
    "\n",
    "# You need the pythia repo root on sys.path (or provided in the $PYTHONPATH env var)\n",
    "from src.utils.load_json_to_pandas import load_json_as_pandas, load_json_file"
   ]
  },
  {
   "cell_type": "code",
   "execution_count": 12,
   "metadata": {
    "collapsed": false
   },
   "outputs": [
    {
     "name": "stdout",
     "output_type": "stream",
     "text": [
      "total 20\r\n",
      "drwxr-xr-x 2 pcallier pcallier 4096 Jun 15 18:54 .\r\n",
      "drwxr-xr-x 7 pcallier pcallier 4096 Jun 15 21:50 ..\r\n",
      "-rw-r--r-- 1 pcallier pcallier 9530 Jun 15 18:54 SKNews.json\r\n"
     ]
    }
   ],
   "source": [
    "json_path = '../../data/'\n",
    "!ls -al $json_path"
   ]
  },
  {
   "cell_type": "code",
   "execution_count": 13,
   "metadata": {
    "collapsed": false
   },
   "outputs": [],
   "source": [
    "data_frame = load_json_as_pandas(json_path)"
   ]
  },
  {
   "cell_type": "markdown",
   "metadata": {},
   "source": [
    "Put this all together to demo the code that is in utils/load_json_to_pandas.py"
   ]
  },
  {
   "cell_type": "code",
   "execution_count": 15,
   "metadata": {
    "collapsed": false
   },
   "outputs": [
    {
     "name": "stdout",
     "output_type": "stream",
     "text": [
      "                                           body_text  cluster_id  corpus  \\\n",
      "0  KT apologizes after 8.7M subscribers' data hac...         198  SKNews   \n",
      "1  South Korean crackers arrested Yet another dat...         198  SKNews   \n",
      "2  Two arrested for hacking personal data of 8.7 ...         198  SKNews   \n",
      "3  Hackers steal, sell data on 8.7 million Korea ...         198  SKNews   \n",
      "4  Data of 8.7 Million KT Subscribers Hacked in S...         198  SKNews   \n",
      "5  South Korea arrests phone firm KT Corp hacking...         198  SKNews   \n",
      "\n",
      "  novelty  order post_id  \n",
      "0   False      1    1981  \n",
      "1    True      0    1980  \n",
      "2    True      2    1982  \n",
      "3   False      3    1983  \n",
      "4   False      4    1984  \n",
      "5   False      5    1985  \n"
     ]
    }
   ],
   "source": [
    "print(data_frame)"
   ]
  },
  {
   "cell_type": "markdown",
   "metadata": {},
   "source": [
    "And you can sort by arbitary columns:"
   ]
  },
  {
   "cell_type": "code",
   "execution_count": 25,
   "metadata": {
    "collapsed": false
   },
   "outputs": [
    {
     "name": "stdout",
     "output_type": "stream",
     "text": [
      "                                           body_text  cluster_id  corpus  \\\n",
      "1  South Korean crackers arrested Yet another dat...         198  SKNews   \n",
      "0  KT apologizes after 8.7M subscribers' data hac...         198  SKNews   \n",
      "2  Two arrested for hacking personal data of 8.7 ...         198  SKNews   \n",
      "3  Hackers steal, sell data on 8.7 million Korea ...         198  SKNews   \n",
      "4  Data of 8.7 Million KT Subscribers Hacked in S...         198  SKNews   \n",
      "5  South Korea arrests phone firm KT Corp hacking...         198  SKNews   \n",
      "\n",
      "  novelty  order post_id  \n",
      "1    True      0    1980  \n",
      "0   False      1    1981  \n",
      "2    True      2    1982  \n",
      "3   False      3    1983  \n",
      "4   False      4    1984  \n",
      "5   False      5    1985  \n"
     ]
    }
   ],
   "source": [
    "print(data_frame.sort_values('post_id'))"
   ]
  },
  {
   "cell_type": "markdown",
   "metadata": {},
   "source": [
    "A handy webpage to learn about querying data in Pandas is at: http://pandas.pydata.org/pandas-docs/stable/comparison_with_sql.html"
   ]
  },
  {
   "cell_type": "code",
   "execution_count": 26,
   "metadata": {
    "collapsed": false
   },
   "outputs": [
    {
     "data": {
      "text/plain": [
       "cluster_id\n",
       "198    6\n",
       "dtype: int64"
      ]
     },
     "execution_count": 26,
     "metadata": {},
     "output_type": "execute_result"
    }
   ],
   "source": [
    "# Look to see how many documents are in each cluster\n",
    "pd_data.groupby(\"cluster_id\").size()"
   ]
  },
  {
   "cell_type": "code",
   "execution_count": 27,
   "metadata": {
    "collapsed": false
   },
   "outputs": [
    {
     "data": {
      "text/plain": [
       "1"
      ]
     },
     "execution_count": 27,
     "metadata": {},
     "output_type": "execute_result"
    }
   ],
   "source": [
    "# how many clusters are there (those with non-zero which this current dataset has)?\n",
    "len(pd_data.groupby(\"cluster_id\").size())"
   ]
  },
  {
   "cell_type": "markdown",
   "metadata": {
    "collapsed": true
   },
   "source": [
    "## Extra: PySpark\n",
    "We are going to try to bring in the data into Spark.\n",
    "If you aren't running Spark or don't have PySpark this part will not work... Any of the operations above can be performed in Spark."
   ]
  },
  {
   "cell_type": "code",
   "execution_count": null,
   "metadata": {
    "collapsed": false
   },
   "outputs": [],
   "source": [
    "from pyspark import SparkContext, SparkConf \n",
    "from pyspark.sql import SQLContext \n",
    "\n",
    "try:\n",
    "    sc = SparkContext()\n",
    "except:\n",
    "    sc = SparkContext._active_spark_context\n",
    "\n",
    "sqlCtx = SQLContext(sc)"
   ]
  },
  {
   "cell_type": "code",
   "execution_count": null,
   "metadata": {
    "collapsed": true
   },
   "outputs": [],
   "source": [
    "data1 = sqlCtx.read.json(\"../../data/SKNews.json\")"
   ]
  },
  {
   "cell_type": "code",
   "execution_count": null,
   "metadata": {
    "collapsed": false
   },
   "outputs": [],
   "source": [
    "data1.collect()"
   ]
  },
  {
   "cell_type": "code",
   "execution_count": null,
   "metadata": {
    "collapsed": false
   },
   "outputs": [],
   "source": [
    "data1.registerTempTable(\"stack\")\n",
    "sqlCtx.sql(\"select * from stack where order=0\").take(1)"
   ]
  },
  {
   "cell_type": "code",
   "execution_count": null,
   "metadata": {
    "collapsed": false
   },
   "outputs": [],
   "source": [
    "data1.printSchema()"
   ]
  }
 ],
 "metadata": {
  "anaconda-cloud": {},
  "kernelspec": {
   "display_name": "Python 3.5 (Pythia)",
   "language": "python",
   "name": "py3-pythia"
  },
  "language_info": {
   "codemirror_mode": {
    "name": "ipython",
    "version": 3
   },
   "file_extension": ".py",
   "mimetype": "text/x-python",
   "name": "python",
   "nbconvert_exporter": "python",
   "pygments_lexer": "ipython3",
   "version": "3.5.2"
  }
 },
 "nbformat": 4,
 "nbformat_minor": 0
}
